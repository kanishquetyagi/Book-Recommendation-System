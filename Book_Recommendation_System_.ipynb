{
  "nbformat": 4,
  "nbformat_minor": 0,
  "metadata": {
    "colab": {
      "name": "Book Recommendation System .ipynb",
      "provenance": [],
      "collapsed_sections": [
        "3Ic3eKN3IFEG",
        "b6CRxWDgI8lT",
        "juKNbDjsJVQJ",
        "aebXTnjAJWZF",
        "-qeYcckFIxgT",
        "031u47vrskwh"
      ],
      "include_colab_link": true
    },
    "kernelspec": {
      "display_name": "Python 3",
      "name": "python3"
    },
    "language_info": {
      "name": "python"
    }
  },
  "cells": [
    {
      "cell_type": "markdown",
      "metadata": {
        "id": "view-in-github",
        "colab_type": "text"
      },
      "source": [
        "<a href=\"https://colab.research.google.com/github/kanishquetyagi/Book-Recommendation-System/blob/main/Book_Recommendation_System_.ipynb\" target=\"_parent\"><img src=\"https://colab.research.google.com/assets/colab-badge.svg\" alt=\"Open In Colab\"/></a>"
      ]
    },
    {
      "cell_type": "markdown",
      "metadata": {
        "id": "OgAo7z1dGdgy"
      },
      "source": [
        "## Introduction"
      ]
    },
    {
      "cell_type": "code",
      "metadata": {
        "id": "23RP5VQ7GY0C"
      },
      "source": [
        "# import required libraries\n",
        "import re\n",
        "import operator\n",
        "import numpy as np\n",
        "import pandas as pd\n",
        "import seaborn as sns\n",
        "import matplotlib.pyplot as plt\n",
        "from scipy.sparse import csr_matrix\n",
        "from pandas.api.types import is_numeric_dtype\n",
        "from sklearn.neighbors import NearestNeighbors\n",
        "from sklearn.feature_extraction import DictVectorizer\n",
        "from sklearn.metrics.pairwise import cosine_similarity\n",
        "from sklearn.feature_extraction.text import TfidfVectorizer\n",
        "# ignore warnings\n",
        "import warnings\n",
        "warnings.filterwarnings(\"ignore\")"
      ],
      "execution_count": null,
      "outputs": []
    },
    {
      "cell_type": "markdown",
      "metadata": {
        "id": "3Ic3eKN3IFEG"
      },
      "source": [
        "## File path's"
      ]
    },
    {
      "cell_type": "markdown",
      "metadata": {
        "id": "b6CRxWDgI8lT"
      },
      "source": [
        "### Amit"
      ]
    },
    {
      "cell_type": "code",
      "metadata": {
        "id": "pwiRLBOxHa59"
      },
      "source": [
        "# # books file path\n",
        "# books = pd.read_csv('')\n",
        "\n",
        "# # users file path\n",
        "# users = pd.read_csv('')\n",
        "\n",
        "# # ratings file path\n",
        "# ratings = pd.read_csv('')"
      ],
      "execution_count": null,
      "outputs": []
    },
    {
      "cell_type": "markdown",
      "metadata": {
        "id": "juKNbDjsJVQJ"
      },
      "source": [
        "### Anand"
      ]
    },
    {
      "cell_type": "code",
      "metadata": {
        "id": "82f23QduJVQJ"
      },
      "source": [
        "# # books file path\n",
        "# books = pd.read_csv('')\n",
        "\n",
        "# # users file path\n",
        "# users = pd.read_csv('')\n",
        "\n",
        "# # ratings file path\n",
        "# ratings = pd.read_csv('')"
      ],
      "execution_count": null,
      "outputs": []
    },
    {
      "cell_type": "markdown",
      "metadata": {
        "id": "aebXTnjAJWZF"
      },
      "source": [
        "### Kanishque"
      ]
    },
    {
      "cell_type": "code",
      "metadata": {
        "id": "amuGR17IJWZG"
      },
      "source": [
        "# # books file path\n",
        "# books = pd.read_csv('')\n",
        "\n",
        "# # users file path\n",
        "# users = pd.read_csv('')\n",
        "\n",
        "# # ratings file path\n",
        "# ratings = pd.read_csv('')"
      ],
      "execution_count": null,
      "outputs": []
    },
    {
      "cell_type": "markdown",
      "metadata": {
        "id": "-qeYcckFIxgT"
      },
      "source": [
        "### Sukruth"
      ]
    },
    {
      "cell_type": "code",
      "metadata": {
        "id": "Lkzm8gwFGxUQ"
      },
      "source": [
        "# books file path\n",
        "books = pd.read_csv('/content/drive/MyDrive/AlmaBetter/Team Capstone Projects/Book Recommendation System ( Unsupervised ML )/Resources/Books.csv')\n",
        "\n",
        "# users file path\n",
        "users = pd.read_csv('/content/drive/MyDrive/AlmaBetter/Team Capstone Projects/Book Recommendation System ( Unsupervised ML )/Resources/Users.csv')\n",
        "\n",
        "# ratings file path\n",
        "ratings = pd.read_csv('/content/drive/MyDrive/AlmaBetter/Team Capstone Projects/Book Recommendation System ( Unsupervised ML )/Resources/Ratings.csv')"
      ],
      "execution_count": null,
      "outputs": []
    },
    {
      "cell_type": "markdown",
      "metadata": {
        "id": "1Kh40uLrKDmi"
      },
      "source": [
        "## DATA Preprocessing"
      ]
    },
    {
      "cell_type": "markdown",
      "metadata": {
        "id": "sB2IsxkS7fWB"
      },
      "source": [
        "### Books data cleaning"
      ]
    },
    {
      "cell_type": "code",
      "metadata": {
        "colab": {
          "base_uri": "https://localhost:8080/",
          "height": 434
        },
        "id": "5axTrXEm5tAe",
        "outputId": "1a400e13-3bbf-4112-f055-bdcbe20069e1"
      },
      "source": [
        "# look at the books data\n",
        "books.head()"
      ],
      "execution_count": null,
      "outputs": [
        {
          "output_type": "execute_result",
          "data": {
            "text/html": [
              "<div>\n",
              "<style scoped>\n",
              "    .dataframe tbody tr th:only-of-type {\n",
              "        vertical-align: middle;\n",
              "    }\n",
              "\n",
              "    .dataframe tbody tr th {\n",
              "        vertical-align: top;\n",
              "    }\n",
              "\n",
              "    .dataframe thead th {\n",
              "        text-align: right;\n",
              "    }\n",
              "</style>\n",
              "<table border=\"1\" class=\"dataframe\">\n",
              "  <thead>\n",
              "    <tr style=\"text-align: right;\">\n",
              "      <th></th>\n",
              "      <th>ISBN</th>\n",
              "      <th>Book-Title</th>\n",
              "      <th>Book-Author</th>\n",
              "      <th>Year-Of-Publication</th>\n",
              "      <th>Publisher</th>\n",
              "      <th>Image-URL-S</th>\n",
              "      <th>Image-URL-M</th>\n",
              "      <th>Image-URL-L</th>\n",
              "    </tr>\n",
              "  </thead>\n",
              "  <tbody>\n",
              "    <tr>\n",
              "      <th>0</th>\n",
              "      <td>0195153448</td>\n",
              "      <td>Classical Mythology</td>\n",
              "      <td>Mark P. O. Morford</td>\n",
              "      <td>2002</td>\n",
              "      <td>Oxford University Press</td>\n",
              "      <td>http://images.amazon.com/images/P/0195153448.0...</td>\n",
              "      <td>http://images.amazon.com/images/P/0195153448.0...</td>\n",
              "      <td>http://images.amazon.com/images/P/0195153448.0...</td>\n",
              "    </tr>\n",
              "    <tr>\n",
              "      <th>1</th>\n",
              "      <td>0002005018</td>\n",
              "      <td>Clara Callan</td>\n",
              "      <td>Richard Bruce Wright</td>\n",
              "      <td>2001</td>\n",
              "      <td>HarperFlamingo Canada</td>\n",
              "      <td>http://images.amazon.com/images/P/0002005018.0...</td>\n",
              "      <td>http://images.amazon.com/images/P/0002005018.0...</td>\n",
              "      <td>http://images.amazon.com/images/P/0002005018.0...</td>\n",
              "    </tr>\n",
              "    <tr>\n",
              "      <th>2</th>\n",
              "      <td>0060973129</td>\n",
              "      <td>Decision in Normandy</td>\n",
              "      <td>Carlo D'Este</td>\n",
              "      <td>1991</td>\n",
              "      <td>HarperPerennial</td>\n",
              "      <td>http://images.amazon.com/images/P/0060973129.0...</td>\n",
              "      <td>http://images.amazon.com/images/P/0060973129.0...</td>\n",
              "      <td>http://images.amazon.com/images/P/0060973129.0...</td>\n",
              "    </tr>\n",
              "    <tr>\n",
              "      <th>3</th>\n",
              "      <td>0374157065</td>\n",
              "      <td>Flu: The Story of the Great Influenza Pandemic...</td>\n",
              "      <td>Gina Bari Kolata</td>\n",
              "      <td>1999</td>\n",
              "      <td>Farrar Straus Giroux</td>\n",
              "      <td>http://images.amazon.com/images/P/0374157065.0...</td>\n",
              "      <td>http://images.amazon.com/images/P/0374157065.0...</td>\n",
              "      <td>http://images.amazon.com/images/P/0374157065.0...</td>\n",
              "    </tr>\n",
              "    <tr>\n",
              "      <th>4</th>\n",
              "      <td>0393045218</td>\n",
              "      <td>The Mummies of Urumchi</td>\n",
              "      <td>E. J. W. Barber</td>\n",
              "      <td>1999</td>\n",
              "      <td>W. W. Norton &amp;amp; Company</td>\n",
              "      <td>http://images.amazon.com/images/P/0393045218.0...</td>\n",
              "      <td>http://images.amazon.com/images/P/0393045218.0...</td>\n",
              "      <td>http://images.amazon.com/images/P/0393045218.0...</td>\n",
              "    </tr>\n",
              "  </tbody>\n",
              "</table>\n",
              "</div>"
            ],
            "text/plain": [
              "         ISBN  ...                                        Image-URL-L\n",
              "0  0195153448  ...  http://images.amazon.com/images/P/0195153448.0...\n",
              "1  0002005018  ...  http://images.amazon.com/images/P/0002005018.0...\n",
              "2  0060973129  ...  http://images.amazon.com/images/P/0060973129.0...\n",
              "3  0374157065  ...  http://images.amazon.com/images/P/0374157065.0...\n",
              "4  0393045218  ...  http://images.amazon.com/images/P/0393045218.0...\n",
              "\n",
              "[5 rows x 8 columns]"
            ]
          },
          "metadata": {},
          "execution_count": 180
        }
      ]
    },
    {
      "cell_type": "code",
      "metadata": {
        "colab": {
          "base_uri": "https://localhost:8080/"
        },
        "id": "tVw2xvABn6Mt",
        "outputId": "dd543c8a-0fd9-4a1a-e7a0-2b794326215d"
      },
      "source": [
        "# info\n",
        "books.info()"
      ],
      "execution_count": null,
      "outputs": [
        {
          "output_type": "stream",
          "name": "stdout",
          "text": [
            "<class 'pandas.core.frame.DataFrame'>\n",
            "RangeIndex: 271360 entries, 0 to 271359\n",
            "Data columns (total 8 columns):\n",
            " #   Column               Non-Null Count   Dtype \n",
            "---  ------               --------------   ----- \n",
            " 0   ISBN                 271360 non-null  object\n",
            " 1   Book-Title           271360 non-null  object\n",
            " 2   Book-Author          271359 non-null  object\n",
            " 3   Year-Of-Publication  271360 non-null  object\n",
            " 4   Publisher            271358 non-null  object\n",
            " 5   Image-URL-S          271360 non-null  object\n",
            " 6   Image-URL-M          271360 non-null  object\n",
            " 7   Image-URL-L          271357 non-null  object\n",
            "dtypes: object(8)\n",
            "memory usage: 16.6+ MB\n"
          ]
        }
      ]
    },
    {
      "cell_type": "code",
      "metadata": {
        "colab": {
          "base_uri": "https://localhost:8080/"
        },
        "id": "_5tLVG0_50KM",
        "outputId": "bfa8a6d1-ee77-4dfd-af7c-c8f7eb569099"
      },
      "source": [
        "# columns and data shape\n",
        "print(f\"Books dataset shape : {books.shape}\")\n",
        "print(f\"Books columns: {list(books.columns)} \" )"
      ],
      "execution_count": null,
      "outputs": [
        {
          "output_type": "stream",
          "name": "stdout",
          "text": [
            "Books dataset shape : (271360, 8)\n",
            "Books columns: ['ISBN', 'Book-Title', 'Book-Author', 'Year-Of-Publication', 'Publisher', 'Image-URL-S', 'Image-URL-M', 'Image-URL-L'] \n"
          ]
        }
      ]
    },
    {
      "cell_type": "code",
      "metadata": {
        "colab": {
          "base_uri": "https://localhost:8080/",
          "height": 224
        },
        "id": "KyXwqjrh7yvM",
        "outputId": "3acb1e9f-dfa5-493f-d527-2e946809e111"
      },
      "source": [
        "# Drop URL columns that arent required for analysis\n",
        "books.drop(['Image-URL-S', 'Image-URL-M', 'Image-URL-L'], axis=1, inplace=True)\n",
        "print(f'Books table after dropping the 3 Image-cols')\n",
        "books.head()"
      ],
      "execution_count": null,
      "outputs": [
        {
          "output_type": "stream",
          "name": "stdout",
          "text": [
            "Books table after dropping the 3 Image-cols\n"
          ]
        },
        {
          "output_type": "execute_result",
          "data": {
            "text/html": [
              "<div>\n",
              "<style scoped>\n",
              "    .dataframe tbody tr th:only-of-type {\n",
              "        vertical-align: middle;\n",
              "    }\n",
              "\n",
              "    .dataframe tbody tr th {\n",
              "        vertical-align: top;\n",
              "    }\n",
              "\n",
              "    .dataframe thead th {\n",
              "        text-align: right;\n",
              "    }\n",
              "</style>\n",
              "<table border=\"1\" class=\"dataframe\">\n",
              "  <thead>\n",
              "    <tr style=\"text-align: right;\">\n",
              "      <th></th>\n",
              "      <th>ISBN</th>\n",
              "      <th>Book-Title</th>\n",
              "      <th>Book-Author</th>\n",
              "      <th>Year-Of-Publication</th>\n",
              "      <th>Publisher</th>\n",
              "    </tr>\n",
              "  </thead>\n",
              "  <tbody>\n",
              "    <tr>\n",
              "      <th>0</th>\n",
              "      <td>0195153448</td>\n",
              "      <td>Classical Mythology</td>\n",
              "      <td>Mark P. O. Morford</td>\n",
              "      <td>2002</td>\n",
              "      <td>Oxford University Press</td>\n",
              "    </tr>\n",
              "    <tr>\n",
              "      <th>1</th>\n",
              "      <td>0002005018</td>\n",
              "      <td>Clara Callan</td>\n",
              "      <td>Richard Bruce Wright</td>\n",
              "      <td>2001</td>\n",
              "      <td>HarperFlamingo Canada</td>\n",
              "    </tr>\n",
              "    <tr>\n",
              "      <th>2</th>\n",
              "      <td>0060973129</td>\n",
              "      <td>Decision in Normandy</td>\n",
              "      <td>Carlo D'Este</td>\n",
              "      <td>1991</td>\n",
              "      <td>HarperPerennial</td>\n",
              "    </tr>\n",
              "    <tr>\n",
              "      <th>3</th>\n",
              "      <td>0374157065</td>\n",
              "      <td>Flu: The Story of the Great Influenza Pandemic...</td>\n",
              "      <td>Gina Bari Kolata</td>\n",
              "      <td>1999</td>\n",
              "      <td>Farrar Straus Giroux</td>\n",
              "    </tr>\n",
              "    <tr>\n",
              "      <th>4</th>\n",
              "      <td>0393045218</td>\n",
              "      <td>The Mummies of Urumchi</td>\n",
              "      <td>E. J. W. Barber</td>\n",
              "      <td>1999</td>\n",
              "      <td>W. W. Norton &amp;amp; Company</td>\n",
              "    </tr>\n",
              "  </tbody>\n",
              "</table>\n",
              "</div>"
            ],
            "text/plain": [
              "         ISBN  ...                   Publisher\n",
              "0  0195153448  ...     Oxford University Press\n",
              "1  0002005018  ...       HarperFlamingo Canada\n",
              "2  0060973129  ...             HarperPerennial\n",
              "3  0374157065  ...        Farrar Straus Giroux\n",
              "4  0393045218  ...  W. W. Norton &amp; Company\n",
              "\n",
              "[5 rows x 5 columns]"
            ]
          },
          "metadata": {},
          "execution_count": 183
        }
      ]
    },
    {
      "cell_type": "code",
      "metadata": {
        "colab": {
          "base_uri": "https://localhost:8080/"
        },
        "id": "dlAUa3md8IiB",
        "outputId": "278f5475-f9eb-4026-f950-180b8edb3c50"
      },
      "source": [
        "# Checking for null values\n",
        "col_with_nulls = books.isnull().sum()\n",
        "col_with_nulls"
      ],
      "execution_count": null,
      "outputs": [
        {
          "output_type": "execute_result",
          "data": {
            "text/plain": [
              "ISBN                   0\n",
              "Book-Title             0\n",
              "Book-Author            1\n",
              "Year-Of-Publication    0\n",
              "Publisher              2\n",
              "dtype: int64"
            ]
          },
          "metadata": {},
          "execution_count": 184
        }
      ]
    },
    {
      "cell_type": "markdown",
      "metadata": {
        "id": "Dl_HI8bI8VJB"
      },
      "source": [
        "There are intotal 3 null values let us look at them and handle them"
      ]
    },
    {
      "cell_type": "code",
      "metadata": {
        "colab": {
          "base_uri": "https://localhost:8080/"
        },
        "id": "kxjiCSiy8ZVG",
        "outputId": "471c26bb-4975-43c2-89ed-91781483f5a3"
      },
      "source": [
        "# return indices of null values\n",
        "b_null_items = [] \n",
        "for col in books.columns:\n",
        "  b_null_items += books[books[col].isnull()].index.tolist()\n",
        "print(f'The indices of null values are : {b_null_items}')"
      ],
      "execution_count": null,
      "outputs": [
        {
          "output_type": "stream",
          "name": "stdout",
          "text": [
            "The indices of null values are : [187689, 128890, 129037]\n"
          ]
        }
      ]
    },
    {
      "cell_type": "code",
      "metadata": {
        "colab": {
          "base_uri": "https://localhost:8080/",
          "height": 143
        },
        "id": "rMiSb2yV_Ip_",
        "outputId": "f63fe15c-5416-48ed-a3a8-6ad866f799aa"
      },
      "source": [
        "# items with missing data \n",
        "books.iloc[b_null_items]"
      ],
      "execution_count": null,
      "outputs": [
        {
          "output_type": "execute_result",
          "data": {
            "text/html": [
              "<div>\n",
              "<style scoped>\n",
              "    .dataframe tbody tr th:only-of-type {\n",
              "        vertical-align: middle;\n",
              "    }\n",
              "\n",
              "    .dataframe tbody tr th {\n",
              "        vertical-align: top;\n",
              "    }\n",
              "\n",
              "    .dataframe thead th {\n",
              "        text-align: right;\n",
              "    }\n",
              "</style>\n",
              "<table border=\"1\" class=\"dataframe\">\n",
              "  <thead>\n",
              "    <tr style=\"text-align: right;\">\n",
              "      <th></th>\n",
              "      <th>ISBN</th>\n",
              "      <th>Book-Title</th>\n",
              "      <th>Book-Author</th>\n",
              "      <th>Year-Of-Publication</th>\n",
              "      <th>Publisher</th>\n",
              "    </tr>\n",
              "  </thead>\n",
              "  <tbody>\n",
              "    <tr>\n",
              "      <th>187689</th>\n",
              "      <td>9627982032</td>\n",
              "      <td>The Credit Suisse Guide to Managing Your Perso...</td>\n",
              "      <td>NaN</td>\n",
              "      <td>1995</td>\n",
              "      <td>Edinburgh Financial Publishing</td>\n",
              "    </tr>\n",
              "    <tr>\n",
              "      <th>128890</th>\n",
              "      <td>193169656X</td>\n",
              "      <td>Tyrant Moon</td>\n",
              "      <td>Elaine Corvidae</td>\n",
              "      <td>2002</td>\n",
              "      <td>NaN</td>\n",
              "    </tr>\n",
              "    <tr>\n",
              "      <th>129037</th>\n",
              "      <td>1931696993</td>\n",
              "      <td>Finders Keepers</td>\n",
              "      <td>Linnea Sinclair</td>\n",
              "      <td>2001</td>\n",
              "      <td>NaN</td>\n",
              "    </tr>\n",
              "  </tbody>\n",
              "</table>\n",
              "</div>"
            ],
            "text/plain": [
              "              ISBN  ...                       Publisher\n",
              "187689  9627982032  ...  Edinburgh Financial Publishing\n",
              "128890  193169656X  ...                             NaN\n",
              "129037  1931696993  ...                             NaN\n",
              "\n",
              "[3 rows x 5 columns]"
            ]
          },
          "metadata": {},
          "execution_count": 186
        }
      ]
    },
    {
      "cell_type": "code",
      "metadata": {
        "id": "TiC8VSil_WF5"
      },
      "source": [
        "# fill the missing values with Other\n",
        "books.iloc[b_null_items] = books.iloc[b_null_items].fillna('Other')"
      ],
      "execution_count": null,
      "outputs": []
    },
    {
      "cell_type": "code",
      "metadata": {
        "colab": {
          "base_uri": "https://localhost:8080/"
        },
        "id": "B0Mcs1RAC8MY",
        "collapsed": true,
        "outputId": "25ab1c07-7236-4279-e1a5-e946c98aa254"
      },
      "source": [
        "# Checking for column Year-of-publication\n",
        "books['Year-Of-Publication'].unique()"
      ],
      "execution_count": null,
      "outputs": [
        {
          "output_type": "execute_result",
          "data": {
            "text/plain": [
              "array([2002, 2001, 1991, 1999, 2000, 1993, 1996, 1988, 2004, 1998, 1994,\n",
              "       2003, 1997, 1983, 1979, 1995, 1982, 1985, 1992, 1986, 1978, 1980,\n",
              "       1952, 1987, 1990, 1981, 1989, 1984, 0, 1968, 1961, 1958, 1974,\n",
              "       1976, 1971, 1977, 1975, 1965, 1941, 1970, 1962, 1973, 1972, 1960,\n",
              "       1966, 1920, 1956, 1959, 1953, 1951, 1942, 1963, 1964, 1969, 1954,\n",
              "       1950, 1967, 2005, 1957, 1940, 1937, 1955, 1946, 1936, 1930, 2011,\n",
              "       1925, 1948, 1943, 1947, 1945, 1923, 2020, 1939, 1926, 1938, 2030,\n",
              "       1911, 1904, 1949, 1932, 1928, 1929, 1927, 1931, 1914, 2050, 1934,\n",
              "       1910, 1933, 1902, 1924, 1921, 1900, 2038, 2026, 1944, 1917, 1901,\n",
              "       2010, 1908, 1906, 1935, 1806, 2021, '2000', '1995', '1999', '2004',\n",
              "       '2003', '1990', '1994', '1986', '1989', '2002', '1981', '1993',\n",
              "       '1983', '1982', '1976', '1991', '1977', '1998', '1992', '1996',\n",
              "       '0', '1997', '2001', '1974', '1968', '1987', '1984', '1988',\n",
              "       '1963', '1956', '1970', '1985', '1978', '1973', '1980', '1979',\n",
              "       '1975', '1969', '1961', '1965', '1939', '1958', '1950', '1953',\n",
              "       '1966', '1971', '1959', '1972', '1955', '1957', '1945', '1960',\n",
              "       '1967', '1932', '1924', '1964', '2012', '1911', '1927', '1948',\n",
              "       '1962', '2006', '1952', '1940', '1951', '1931', '1954', '2005',\n",
              "       '1930', '1941', '1944', 'DK Publishing Inc', '1943', '1938',\n",
              "       '1900', '1942', '1923', '1920', '1933', 'Gallimard', '1909',\n",
              "       '1946', '2008', '1378', '2030', '1936', '1947', '2011', '2020',\n",
              "       '1919', '1949', '1922', '1897', '2024', '1376', '1926', '2037'],\n",
              "      dtype=object)"
            ]
          },
          "metadata": {},
          "execution_count": 188
        }
      ]
    },
    {
      "cell_type": "code",
      "metadata": {
        "colab": {
          "base_uri": "https://localhost:8080/",
          "height": 112
        },
        "id": "z7VReNeNOBn7",
        "outputId": "af74e1ca-1436-4e2a-c04a-eb0bdc09512e"
      },
      "source": [
        "# at Year-Of-Publication = DK Publishing Inc\n",
        "books.loc[books['Year-Of-Publication'] == 'DK Publishing Inc',:]"
      ],
      "execution_count": null,
      "outputs": [
        {
          "output_type": "execute_result",
          "data": {
            "text/html": [
              "<div>\n",
              "<style scoped>\n",
              "    .dataframe tbody tr th:only-of-type {\n",
              "        vertical-align: middle;\n",
              "    }\n",
              "\n",
              "    .dataframe tbody tr th {\n",
              "        vertical-align: top;\n",
              "    }\n",
              "\n",
              "    .dataframe thead th {\n",
              "        text-align: right;\n",
              "    }\n",
              "</style>\n",
              "<table border=\"1\" class=\"dataframe\">\n",
              "  <thead>\n",
              "    <tr style=\"text-align: right;\">\n",
              "      <th></th>\n",
              "      <th>ISBN</th>\n",
              "      <th>Book-Title</th>\n",
              "      <th>Book-Author</th>\n",
              "      <th>Year-Of-Publication</th>\n",
              "      <th>Publisher</th>\n",
              "    </tr>\n",
              "  </thead>\n",
              "  <tbody>\n",
              "    <tr>\n",
              "      <th>209538</th>\n",
              "      <td>078946697X</td>\n",
              "      <td>DK Readers: Creating the X-Men, How It All Beg...</td>\n",
              "      <td>2000</td>\n",
              "      <td>DK Publishing Inc</td>\n",
              "      <td>http://images.amazon.com/images/P/078946697X.0...</td>\n",
              "    </tr>\n",
              "    <tr>\n",
              "      <th>221678</th>\n",
              "      <td>0789466953</td>\n",
              "      <td>DK Readers: Creating the X-Men, How Comic Book...</td>\n",
              "      <td>2000</td>\n",
              "      <td>DK Publishing Inc</td>\n",
              "      <td>http://images.amazon.com/images/P/0789466953.0...</td>\n",
              "    </tr>\n",
              "  </tbody>\n",
              "</table>\n",
              "</div>"
            ],
            "text/plain": [
              "              ISBN  ...                                          Publisher\n",
              "209538  078946697X  ...  http://images.amazon.com/images/P/078946697X.0...\n",
              "221678  0789466953  ...  http://images.amazon.com/images/P/0789466953.0...\n",
              "\n",
              "[2 rows x 5 columns]"
            ]
          },
          "metadata": {},
          "execution_count": 189
        }
      ]
    },
    {
      "cell_type": "code",
      "metadata": {
        "colab": {
          "base_uri": "https://localhost:8080/",
          "height": 81
        },
        "id": "_dY3pHPqOksq",
        "outputId": "e2047fe2-b503-483c-f73f-7f4274f87bca"
      },
      "source": [
        "# at Year-Of-Publication = Gallimard\n",
        "books.loc[books['Year-Of-Publication'] == 'Gallimard',:]"
      ],
      "execution_count": null,
      "outputs": [
        {
          "output_type": "execute_result",
          "data": {
            "text/html": [
              "<div>\n",
              "<style scoped>\n",
              "    .dataframe tbody tr th:only-of-type {\n",
              "        vertical-align: middle;\n",
              "    }\n",
              "\n",
              "    .dataframe tbody tr th {\n",
              "        vertical-align: top;\n",
              "    }\n",
              "\n",
              "    .dataframe thead th {\n",
              "        text-align: right;\n",
              "    }\n",
              "</style>\n",
              "<table border=\"1\" class=\"dataframe\">\n",
              "  <thead>\n",
              "    <tr style=\"text-align: right;\">\n",
              "      <th></th>\n",
              "      <th>ISBN</th>\n",
              "      <th>Book-Title</th>\n",
              "      <th>Book-Author</th>\n",
              "      <th>Year-Of-Publication</th>\n",
              "      <th>Publisher</th>\n",
              "    </tr>\n",
              "  </thead>\n",
              "  <tbody>\n",
              "    <tr>\n",
              "      <th>220731</th>\n",
              "      <td>2070426769</td>\n",
              "      <td>Peuple du ciel, suivi de 'Les Bergers\\\";Jean-M...</td>\n",
              "      <td>2003</td>\n",
              "      <td>Gallimard</td>\n",
              "      <td>http://images.amazon.com/images/P/2070426769.0...</td>\n",
              "    </tr>\n",
              "  </tbody>\n",
              "</table>\n",
              "</div>"
            ],
            "text/plain": [
              "              ISBN  ...                                          Publisher\n",
              "220731  2070426769  ...  http://images.amazon.com/images/P/2070426769.0...\n",
              "\n",
              "[1 rows x 5 columns]"
            ]
          },
          "metadata": {},
          "execution_count": 190
        }
      ]
    },
    {
      "cell_type": "markdown",
      "metadata": {
        "id": "fkF54YCbD0Z7"
      },
      "source": [
        "we have two different name values instead of year at ('DK Publishing Inc' & 'Gallimard')"
      ]
    },
    {
      "cell_type": "code",
      "metadata": {
        "id": "zAHvJV1qDt11",
        "cellView": "code"
      },
      "source": [
        "# well it's not just the years but also author and publisher names have been interchanged\n",
        "# let's correct this by inserting the right values into them\n",
        "\n",
        "# change values of book(209538)\n",
        "books.at[209538 ,'Publisher'] = 'DK Publishing Inc'\n",
        "books.at[209538 ,'Year-Of-Publication'] = 2000\n",
        "books.at[209538 ,'Book-Title'] = 'DK Readers: Creating the X-Men, How It All Began (Level 4: Proficient Readers)'\n",
        "books.at[209538 ,'Book-Author'] = 'Michael Teitelbaum'\n",
        "\n",
        "# change values of book(221678)\n",
        "books.at[221678 ,'Publisher'] = 'DK Publishing Inc'\n",
        "books.at[221678 ,'Year-Of-Publication'] = 2000\n",
        "books.at[221678 ,'Book-Title'] = 'DK Readers: Creating the X-Men, How Comic Books Come to Life (Level 4: Proficient Readers)'\n",
        "books.at[221678 ,'Book-Author'] = 'James Buckley'\n",
        "\n",
        "# change values of book(220731)\n",
        "books.at[220731 ,'Publisher'] = 'Gallimard'\n",
        "books.at[220731 ,'Year-Of-Publication'] = 2003\n",
        "books.at[220731 ,'Book-Title'] = 'Peuple du ciel - Suivi de Les bergers '\n",
        "books.at[220731 ,'Book-Author'] = 'Jean-Marie Gustave Le ClÃ?Â©zio'"
      ],
      "execution_count": null,
      "outputs": []
    },
    {
      "cell_type": "code",
      "metadata": {
        "colab": {
          "base_uri": "https://localhost:8080/"
        },
        "id": "y06be3URb9Fi",
        "outputId": "814c392f-7783-42d7-a21d-b9b0f101efe6"
      },
      "source": [
        "# confirming the change\n",
        "for index in [209538,221678,220731]:\n",
        "  print(books.iloc[index])\n",
        "  print('-'*30)"
      ],
      "execution_count": null,
      "outputs": [
        {
          "output_type": "stream",
          "name": "stdout",
          "text": [
            "ISBN                                                          078946697X\n",
            "Book-Title             DK Readers: Creating the X-Men, How It All Beg...\n",
            "Book-Author                                           Michael Teitelbaum\n",
            "Year-Of-Publication                                                 2000\n",
            "Publisher                                              DK Publishing Inc\n",
            "Name: 209538, dtype: object\n",
            "------------------------------\n",
            "ISBN                                                          0789466953\n",
            "Book-Title             DK Readers: Creating the X-Men, How Comic Book...\n",
            "Book-Author                                                James Buckley\n",
            "Year-Of-Publication                                                 2000\n",
            "Publisher                                              DK Publishing Inc\n",
            "Name: 221678, dtype: object\n",
            "------------------------------\n",
            "ISBN                                               2070426769\n",
            "Book-Title             Peuple du ciel - Suivi de Les bergers \n",
            "Book-Author                   Jean-Marie Gustave Le ClÃ?Â©zio\n",
            "Year-Of-Publication                                      2003\n",
            "Publisher                                           Gallimard\n",
            "Name: 220731, dtype: object\n",
            "------------------------------\n"
          ]
        }
      ]
    },
    {
      "cell_type": "code",
      "metadata": {
        "id": "MNZQs4ZfexF-"
      },
      "source": [
        "# convert type to int\n",
        "books['Year-Of-Publication'] = books['Year-Of-Publication'].astype('int64')"
      ],
      "execution_count": null,
      "outputs": []
    },
    {
      "cell_type": "markdown",
      "metadata": {
        "id": "f0_PuhSef8me"
      },
      "source": [
        "Now that we have taken care of one issue of replacing the charecters with theier respective year, we still have to deal with books that were published in the future ...."
      ]
    },
    {
      "cell_type": "code",
      "metadata": {
        "colab": {
          "base_uri": "https://localhost:8080/"
        },
        "id": "fe0G4TmShvld",
        "outputId": "4e5ae1e9-5c49-4d45-f0cc-9ce4d5cd042f"
      },
      "source": [
        "# before cleaning - sorted dates\n",
        "sorted_book_dates = sorted(list(books['Year-Of-Publication'].unique()))\n",
        "print(sorted_book_dates)"
      ],
      "execution_count": null,
      "outputs": [
        {
          "output_type": "stream",
          "name": "stdout",
          "text": [
            "[0, 1376, 1378, 1806, 1897, 1900, 1901, 1902, 1904, 1906, 1908, 1909, 1910, 1911, 1914, 1917, 1919, 1920, 1921, 1922, 1923, 1924, 1925, 1926, 1927, 1928, 1929, 1930, 1931, 1932, 1933, 1934, 1935, 1936, 1937, 1938, 1939, 1940, 1941, 1942, 1943, 1944, 1945, 1946, 1947, 1948, 1949, 1950, 1951, 1952, 1953, 1954, 1955, 1956, 1957, 1958, 1959, 1960, 1961, 1962, 1963, 1964, 1965, 1966, 1967, 1968, 1969, 1970, 1971, 1972, 1973, 1974, 1975, 1976, 1977, 1978, 1979, 1980, 1981, 1982, 1983, 1984, 1985, 1986, 1987, 1988, 1989, 1990, 1991, 1992, 1993, 1994, 1995, 1996, 1997, 1998, 1999, 2000, 2001, 2002, 2003, 2004, 2005, 2006, 2008, 2010, 2011, 2012, 2020, 2021, 2024, 2026, 2030, 2037, 2038, 2050]\n"
          ]
        }
      ]
    },
    {
      "cell_type": "markdown",
      "metadata": {
        "id": "SzMr5gz7Pvld"
      },
      "source": [
        "From the sorted list we can see that our fataset consists of books being published during \" The Big Bang \" (year-of-publication = 0)\n",
        "and few from the future (year-of-publication > 2004),\n",
        "\n",
        "Sadly as this dataset was published in 2004(so no books from the future...)"
      ]
    },
    {
      "cell_type": "markdown",
      "metadata": {
        "id": "3zctog4CbZXW"
      },
      "source": [
        "From the above list we can see that there are outliers in the dataset(year)"
      ]
    },
    {
      "cell_type": "code",
      "metadata": {
        "colab": {
          "base_uri": "https://localhost:8080/",
          "height": 286
        },
        "id": "4XAycViNZoEx",
        "outputId": "36d43ae0-b497-4aa6-ae95-91a9fd4931fa"
      },
      "source": [
        "# boxplot before handling outliers \n",
        "sns.boxplot(y='Year-Of-Publication', data=books)\n",
        "plt.title('Box plot of Year-Of-Publication column before outlier removal')"
      ],
      "execution_count": null,
      "outputs": [
        {
          "output_type": "execute_result",
          "data": {
            "text/plain": [
              "Text(0.5, 1.0, 'Box plot of Year-Of-Publication column before outlier removal')"
            ]
          },
          "metadata": {},
          "execution_count": 195
        },
        {
          "output_type": "display_data",
          "data": {
            "image/png": "[encoded data removed]",
            "text/plain": [
              "<Figure size 432x288 with 1 Axes>"
            ]
          },
          "metadata": {
            "needs_background": "light"
          }
        }
      ]
    },
    {
      "cell_type": "code",
      "metadata": {
        "colab": {
          "base_uri": "https://localhost:8080/"
        },
        "id": "JxURFrZHTw8V",
        "outputId": "d489bd9b-0885-457f-dae4-cb1c152f80fa"
      },
      "source": [
        "sorted_book_dates[:3]"
      ],
      "execution_count": null,
      "outputs": [
        {
          "output_type": "execute_result",
          "data": {
            "text/plain": [
              "[0, 1376, 1378]"
            ]
          },
          "metadata": {},
          "execution_count": 196
        }
      ]
    },
    {
      "cell_type": "code",
      "metadata": {
        "colab": {
          "base_uri": "https://localhost:8080/",
          "height": 423
        },
        "id": "r3ItPlK0hu_v",
        "outputId": "66e1dea9-e388-480f-c941-57aa192b0e76"
      },
      "source": [
        "# book published during year 0 \n",
        "books.loc[books['Year-Of-Publication']==sorted_book_dates[0]]"
      ],
      "execution_count": null,
      "outputs": [
        {
          "output_type": "execute_result",
          "data": {
            "text/html": [
              "<div>\n",
              "<style scoped>\n",
              "    .dataframe tbody tr th:only-of-type {\n",
              "        vertical-align: middle;\n",
              "    }\n",
              "\n",
              "    .dataframe tbody tr th {\n",
              "        vertical-align: top;\n",
              "    }\n",
              "\n",
              "    .dataframe thead th {\n",
              "        text-align: right;\n",
              "    }\n",
              "</style>\n",
              "<table border=\"1\" class=\"dataframe\">\n",
              "  <thead>\n",
              "    <tr style=\"text-align: right;\">\n",
              "      <th></th>\n",
              "      <th>ISBN</th>\n",
              "      <th>Book-Title</th>\n",
              "      <th>Book-Author</th>\n",
              "      <th>Year-Of-Publication</th>\n",
              "      <th>Publisher</th>\n",
              "    </tr>\n",
              "  </thead>\n",
              "  <tbody>\n",
              "    <tr>\n",
              "      <th>176</th>\n",
              "      <td>3150000335</td>\n",
              "      <td>Kabale Und Liebe</td>\n",
              "      <td>Schiller</td>\n",
              "      <td>0</td>\n",
              "      <td>Philipp Reclam, Jun Verlag GmbH</td>\n",
              "    </tr>\n",
              "    <tr>\n",
              "      <th>188</th>\n",
              "      <td>342311360X</td>\n",
              "      <td>Die Liebe in Den Zelten</td>\n",
              "      <td>Gabriel Garcia Marquez</td>\n",
              "      <td>0</td>\n",
              "      <td>Deutscher Taschenbuch Verlag (DTV)</td>\n",
              "    </tr>\n",
              "    <tr>\n",
              "      <th>288</th>\n",
              "      <td>0571197639</td>\n",
              "      <td>Poisonwood Bible Edition Uk</td>\n",
              "      <td>Barbara Kingsolver</td>\n",
              "      <td>0</td>\n",
              "      <td>Faber Faber Inc</td>\n",
              "    </tr>\n",
              "    <tr>\n",
              "      <th>351</th>\n",
              "      <td>3596214629</td>\n",
              "      <td>Herr Der Fliegen (Fiction, Poetry and Drama)</td>\n",
              "      <td>Golding</td>\n",
              "      <td>0</td>\n",
              "      <td>Fischer Taschenbuch Verlag GmbH</td>\n",
              "    </tr>\n",
              "    <tr>\n",
              "      <th>542</th>\n",
              "      <td>8845229041</td>\n",
              "      <td>Biblioteca Universale Rizzoli: Sulla Sponda De...</td>\n",
              "      <td>P Coelho</td>\n",
              "      <td>0</td>\n",
              "      <td>Fabbri - RCS Libri</td>\n",
              "    </tr>\n",
              "    <tr>\n",
              "      <th>...</th>\n",
              "      <td>...</td>\n",
              "      <td>...</td>\n",
              "      <td>...</td>\n",
              "      <td>...</td>\n",
              "      <td>...</td>\n",
              "    </tr>\n",
              "    <tr>\n",
              "      <th>270794</th>\n",
              "      <td>014029953X</td>\n",
              "      <td>Foe (Essential.penguin S.)</td>\n",
              "      <td>J.M. Coetzee</td>\n",
              "      <td>0</td>\n",
              "      <td>Penguin Books Ltd</td>\n",
              "    </tr>\n",
              "    <tr>\n",
              "      <th>270913</th>\n",
              "      <td>0340571187</td>\n",
              "      <td>Postmens House</td>\n",
              "      <td>Maggie Hemingway</td>\n",
              "      <td>0</td>\n",
              "      <td>Trafalgar Square</td>\n",
              "    </tr>\n",
              "    <tr>\n",
              "      <th>271094</th>\n",
              "      <td>8427201079</td>\n",
              "      <td>El Misterio De Sittaford</td>\n",
              "      <td>Agatha Christie</td>\n",
              "      <td>0</td>\n",
              "      <td>Editorial Molino</td>\n",
              "    </tr>\n",
              "    <tr>\n",
              "      <th>271182</th>\n",
              "      <td>0887781721</td>\n",
              "      <td>Tom Penny</td>\n",
              "      <td>Tony German</td>\n",
              "      <td>0</td>\n",
              "      <td>P. Martin Associates</td>\n",
              "    </tr>\n",
              "    <tr>\n",
              "      <th>271196</th>\n",
              "      <td>3150013763</td>\n",
              "      <td>Der Hofmeister</td>\n",
              "      <td>Jakob Lenz</td>\n",
              "      <td>0</td>\n",
              "      <td>Philipp Reclam, Jun Verlag GmbH</td>\n",
              "    </tr>\n",
              "  </tbody>\n",
              "</table>\n",
              "<p>4618 rows × 5 columns</p>\n",
              "</div>"
            ],
            "text/plain": [
              "              ISBN  ...                           Publisher\n",
              "176     3150000335  ...     Philipp Reclam, Jun Verlag GmbH\n",
              "188     342311360X  ...  Deutscher Taschenbuch Verlag (DTV)\n",
              "288     0571197639  ...                     Faber Faber Inc\n",
              "351     3596214629  ...     Fischer Taschenbuch Verlag GmbH\n",
              "542     8845229041  ...                  Fabbri - RCS Libri\n",
              "...            ...  ...                                 ...\n",
              "270794  014029953X  ...                   Penguin Books Ltd\n",
              "270913  0340571187  ...                    Trafalgar Square\n",
              "271094  8427201079  ...                    Editorial Molino\n",
              "271182  0887781721  ...                P. Martin Associates\n",
              "271196  3150013763  ...     Philipp Reclam, Jun Verlag GmbH\n",
              "\n",
              "[4618 rows x 5 columns]"
            ]
          },
          "metadata": {},
          "execution_count": 197
        }
      ]
    },
    {
      "cell_type": "markdown",
      "metadata": {
        "id": "NMTI04khh8IX"
      },
      "source": [
        "Well that just looks like a typo/error during data entry"
      ]
    },
    {
      "cell_type": "code",
      "metadata": {
        "colab": {
          "base_uri": "https://localhost:8080/",
          "height": 81
        },
        "id": "QzA7P3-qAZ0h",
        "outputId": "198541fb-5d6a-4ce1-96ac-d3bfeb0be97b"
      },
      "source": [
        "# book published in 1376\n",
        "books.loc[books['Year-Of-Publication']==sorted_book_dates[1]]"
      ],
      "execution_count": null,
      "outputs": [
        {
          "output_type": "execute_result",
          "data": {
            "text/html": [
              "<div>\n",
              "<style scoped>\n",
              "    .dataframe tbody tr th:only-of-type {\n",
              "        vertical-align: middle;\n",
              "    }\n",
              "\n",
              "    .dataframe tbody tr th {\n",
              "        vertical-align: top;\n",
              "    }\n",
              "\n",
              "    .dataframe thead th {\n",
              "        text-align: right;\n",
              "    }\n",
              "</style>\n",
              "<table border=\"1\" class=\"dataframe\">\n",
              "  <thead>\n",
              "    <tr style=\"text-align: right;\">\n",
              "      <th></th>\n",
              "      <th>ISBN</th>\n",
              "      <th>Book-Title</th>\n",
              "      <th>Book-Author</th>\n",
              "      <th>Year-Of-Publication</th>\n",
              "      <th>Publisher</th>\n",
              "    </tr>\n",
              "  </thead>\n",
              "  <tbody>\n",
              "    <tr>\n",
              "      <th>253750</th>\n",
              "      <td>964442011X</td>\n",
              "      <td>Tasht-i khun</td>\n",
              "      <td>IsmaÂ°il Fasih</td>\n",
              "      <td>1376</td>\n",
              "      <td>Nashr-i Alburz</td>\n",
              "    </tr>\n",
              "  </tbody>\n",
              "</table>\n",
              "</div>"
            ],
            "text/plain": [
              "              ISBN    Book-Title  ... Year-Of-Publication       Publisher\n",
              "253750  964442011X  Tasht-i khun  ...                1376  Nashr-i Alburz\n",
              "\n",
              "[1 rows x 5 columns]"
            ]
          },
          "metadata": {},
          "execution_count": 198
        }
      ]
    },
    {
      "cell_type": "markdown",
      "metadata": {
        "id": "7JKmVQfgfpBM"
      },
      "source": [
        "[IsmaÂ°il Fasih's book - Tasht-i khun was published in the year - 1997](https://ferdosi.com/pages/product/?lang=en&product=0&id=964442011X&title=Tasht-i+khun&ntitle=%D8%B7%D8%B4%D8%AA+%D8%AE%D9%88%D9%86)"
      ]
    },
    {
      "cell_type": "code",
      "metadata": {
        "colab": {
          "base_uri": "https://localhost:8080/",
          "height": 81
        },
        "id": "u-vSuHtcB2n5",
        "outputId": "e9bbc12c-5fe8-4bfb-bae9-cfac87b6cd19"
      },
      "source": [
        "books.loc[books['Year-Of-Publication']==sorted_book_dates[2]]"
      ],
      "execution_count": null,
      "outputs": [
        {
          "output_type": "execute_result",
          "data": {
            "text/html": [
              "<div>\n",
              "<style scoped>\n",
              "    .dataframe tbody tr th:only-of-type {\n",
              "        vertical-align: middle;\n",
              "    }\n",
              "\n",
              "    .dataframe tbody tr th {\n",
              "        vertical-align: top;\n",
              "    }\n",
              "\n",
              "    .dataframe thead th {\n",
              "        text-align: right;\n",
              "    }\n",
              "</style>\n",
              "<table border=\"1\" class=\"dataframe\">\n",
              "  <thead>\n",
              "    <tr style=\"text-align: right;\">\n",
              "      <th></th>\n",
              "      <th>ISBN</th>\n",
              "      <th>Book-Title</th>\n",
              "      <th>Book-Author</th>\n",
              "      <th>Year-Of-Publication</th>\n",
              "      <th>Publisher</th>\n",
              "    </tr>\n",
              "  </thead>\n",
              "  <tbody>\n",
              "    <tr>\n",
              "      <th>227531</th>\n",
              "      <td>9643112136</td>\n",
              "      <td>Dalan-i bihisht (Dastan-i Irani)</td>\n",
              "      <td>Nazi Safavi</td>\n",
              "      <td>1378</td>\n",
              "      <td>Intisharat-i Quqnus</td>\n",
              "    </tr>\n",
              "  </tbody>\n",
              "</table>\n",
              "</div>"
            ],
            "text/plain": [
              "              ISBN  ...            Publisher\n",
              "227531  9643112136  ...  Intisharat-i Quqnus\n",
              "\n",
              "[1 rows x 5 columns]"
            ]
          },
          "metadata": {},
          "execution_count": 199
        }
      ]
    },
    {
      "cell_type": "markdown",
      "metadata": {
        "id": "d1L6K3ytfY_l"
      },
      "source": [
        "[Nazi Safavi book - Dalan-i bihisht (Dastan-i Irani) was published in the year 1999](https://www.goodreads.com/author/show/5494214.Nazi_Safavi)"
      ]
    },
    {
      "cell_type": "code",
      "metadata": {
        "id": "90zn8ylEjZs-"
      },
      "source": [
        "# correcting years of books in dataset\n",
        "\n",
        "# book - Tasht-i khun\n",
        "books.loc[books['Year-Of-Publication']==sorted_book_dates[1], 'Year-Of-Publication'] = 1997\n",
        "# book - Dalan-i bihisht (Dastan-i Irani)\n",
        "books.loc[books['Year-Of-Publication']==sorted_book_dates[2], 'Year-Of-Publication'] = 1999\n",
        "\n",
        "# replace the null and outliers with the mode(year-of-publication)\n",
        "books.loc[(books['Year-Of-Publication'] > 2004) , 'Year-Of-Publication'] = 2002\n",
        "books.loc[(books['Year-Of-Publication'] == 0), 'Year-Of-Publication'] = 2002"
      ],
      "execution_count": null,
      "outputs": []
    },
    {
      "cell_type": "code",
      "metadata": {
        "colab": {
          "base_uri": "https://localhost:8080/"
        },
        "id": "ZScCurgTjsGu",
        "outputId": "f771323b-1b2f-4814-fa56-6e55f577e75e"
      },
      "source": [
        "# after cleaning - sorted dates\n",
        "print(sorted(list(books['Year-Of-Publication'].unique())))"
      ],
      "execution_count": null,
      "outputs": [
        {
          "output_type": "stream",
          "name": "stdout",
          "text": [
            "[1806, 1897, 1900, 1901, 1902, 1904, 1906, 1908, 1909, 1910, 1911, 1914, 1917, 1919, 1920, 1921, 1922, 1923, 1924, 1925, 1926, 1927, 1928, 1929, 1930, 1931, 1932, 1933, 1934, 1935, 1936, 1937, 1938, 1939, 1940, 1941, 1942, 1943, 1944, 1945, 1946, 1947, 1948, 1949, 1950, 1951, 1952, 1953, 1954, 1955, 1956, 1957, 1958, 1959, 1960, 1961, 1962, 1963, 1964, 1965, 1966, 1967, 1968, 1969, 1970, 1971, 1972, 1973, 1974, 1975, 1976, 1977, 1978, 1979, 1980, 1981, 1982, 1983, 1984, 1985, 1986, 1987, 1988, 1989, 1990, 1991, 1992, 1993, 1994, 1995, 1996, 1997, 1998, 1999, 2000, 2001, 2002, 2003, 2004]\n"
          ]
        }
      ]
    },
    {
      "cell_type": "code",
      "metadata": {
        "colab": {
          "base_uri": "https://localhost:8080/",
          "height": 286
        },
        "id": "1_60zUFDcVEz",
        "outputId": "562ba273-1634-4efa-8d28-836130f20491"
      },
      "source": [
        "# boxplot before handling outliers \n",
        "sns.boxplot(y='Year-Of-Publication', data=books)\n",
        "plt.title('Box plot of Year-Of-Publication column after removing outliers')"
      ],
      "execution_count": null,
      "outputs": [
        {
          "output_type": "execute_result",
          "data": {
            "text/plain": [
              "Text(0.5, 1.0, 'Box plot of Year-Of-Publication column after removing outliers')"
            ]
          },
          "metadata": {},
          "execution_count": 202
        },
        {
          "output_type": "display_data",
          "data": {
            "image/png": "[encoded data removed]",
            "text/plain": [
              "<Figure size 432x288 with 1 Axes>"
            ]
          },
          "metadata": {
            "needs_background": "light"
          }
        }
      ]
    },
    {
      "cell_type": "markdown",
      "metadata": {
        "id": "lqcXVWJqi3s-"
      },
      "source": [
        "after observing the unique years and the box plot we can confirm that our corrections have taken effect"
      ]
    },
    {
      "cell_type": "code",
      "metadata": {
        "colab": {
          "base_uri": "https://localhost:8080/",
          "height": 232
        },
        "id": "6wVjNmu-iBwB",
        "outputId": "f261be62-b19c-434d-f3a2-6980adf75c99"
      },
      "source": [
        "  # plot the number of books published year-on-year\n",
        "  plt.figure(figsize=(110,15))\n",
        "  sns.countplot(x='Year-Of-Publication',data=books,palette='Paired')\n",
        "  plt.title('Number of Books published each year ')"
      ],
      "execution_count": null,
      "outputs": [
        {
          "output_type": "execute_result",
          "data": {
            "text/plain": [
              "Text(0.5, 1.0, 'Number of Books published each year ')"
            ]
          },
          "metadata": {},
          "execution_count": 27
        },
        {
          "output_type": "display_data",
          "data": {
            "image/png": "[encoded data removed]",
            "text/plain": [
              "<Figure size 7920x1080 with 1 Axes>"
            ]
          },
          "metadata": {
            "needs_background": "light"
          }
        }
      ]
    },
    {
      "cell_type": "code",
      "metadata": {
        "id": "g6YvWCWejwDN"
      },
      "source": [
        "# Upper casing all alphabets in ISBN\n",
        "books['ISBN'] = books['ISBN'].str.upper()"
      ],
      "execution_count": null,
      "outputs": []
    },
    {
      "cell_type": "code",
      "metadata": {
        "id": "EOpnZpdvFfk0",
        "colab": {
          "base_uri": "https://localhost:8080/"
        },
        "outputId": "b632b87d-6f59-4b46-be55-274edd891c92"
      },
      "source": [
        "# Drop duplicate rows\n",
        "books.drop_duplicates(keep='last', inplace=True) \n",
        "books.reset_index(drop = True, inplace = True)\n",
        "\n",
        "# size of df after dropping\n",
        "print(f'Shape of dataframe after dropping duplicates : {books.shape}')\n",
        "print(f'Number of duplicates dropped are : {271360 - books.shape[0]}')"
      ],
      "execution_count": null,
      "outputs": [
        {
          "output_type": "stream",
          "name": "stdout",
          "text": [
            "Shape of dataframe after dropping duplicates : (271047, 5)\n",
            "Number of duplicates dropped are : 313\n"
          ]
        }
      ]
    },
    {
      "cell_type": "code",
      "metadata": {
        "id": "k6Je_9t6die4"
      },
      "source": [
        "# checking ISBN for special charecters\n",
        "def specialCharDetector(d_frame,col_v):\n",
        "  flag = 0\n",
        "  reg = \"[^A-Za-z0-9]\"\n",
        "\n",
        "  # loop through each item(isbn) in the given col\n",
        "  for x in d_frame[col_v]:\n",
        "      z = re.search(reg,x)    \n",
        "      if z:\n",
        "          flag = 1\n",
        "  # if flag is set to 1 then there are special charecters\n",
        "  if flag == 1:\n",
        "      print(f\" Special charecters found in {col_v}\")\n",
        "  else:\n",
        "      print(f\" No special charecters found in {col_v}\")"
      ],
      "execution_count": null,
      "outputs": []
    },
    {
      "cell_type": "code",
      "metadata": {
        "colab": {
          "base_uri": "https://localhost:8080/"
        },
        "id": "PdH-_cjVb8P3",
        "outputId": "a0fac0f8-00b8-4db9-e9aa-7e264ac9cc70"
      },
      "source": [
        "specialCharDetector(books,'ISBN')"
      ],
      "execution_count": null,
      "outputs": [
        {
          "output_type": "stream",
          "name": "stdout",
          "text": [
            " Special charecters found in ISBN\n"
          ]
        }
      ]
    },
    {
      "cell_type": "markdown",
      "metadata": {
        "id": "p1Hdx_EqlxZj"
      },
      "source": [
        "[but isbn mustn't contain special charecters ](http://www-math.ucdenver.edu/~wcherowi/jcorner/isbn.html)"
      ]
    },
    {
      "cell_type": "code",
      "metadata": {
        "id": "DWii3w2HHVm7"
      },
      "source": [
        "# removing extra characters from ISBN (from ratings dataset) existing in books dataset\n",
        "def removeSpecialChar(df_):\n",
        "  bookISBN = df_['ISBN'].tolist() \n",
        "  reg = \"[^A-Za-z0-9]\" \n",
        "  for index, row_Value in df_.iterrows():\n",
        "      z = re.search(reg, row_Value['ISBN'])    \n",
        "      if z:\n",
        "          f = re.sub(reg,\"\",row_Value['ISBN'])\n",
        "          if f in bookISBN:\n",
        "              df_.at[index , 'ISBN'] = f"
      ],
      "execution_count": null,
      "outputs": []
    },
    {
      "cell_type": "code",
      "metadata": {
        "id": "vf7ElmHfmgO2"
      },
      "source": [
        "# remove special charecters\n",
        "# removeSpecialChar(books)"
      ],
      "execution_count": null,
      "outputs": []
    },
    {
      "cell_type": "code",
      "metadata": {
        "id": "IUa1tFh8VFSR"
      },
      "source": [
        "# count plot values on required axis based off  on the dataframe\n",
        "def CountPlotN(col,data,n,title,axis_flag=0):\n",
        "  \n",
        "  ''' count plot values on required axis\n",
        "  axis_flag - specify axis-(0)=y_axis ; (1)=x_axis, \n",
        "  data - dataframe,\n",
        "  n - select the topN values to be displaced\n",
        "  title - specify the title to be displayed '''\n",
        "\n",
        "  plt.figure(figsize=(15,7))\n",
        "  order = pd.value_counts(data[col]).iloc[:n].index\n",
        "  # change axis based on flag\n",
        "  if axis_flag:\n",
        "    sns.countplot(x=col,data=data,order=order,palette='Paired')\n",
        "  else:\n",
        "    sns.countplot(y=col,data=data,order=order,palette='Paired')\n",
        "  plt.title(title)"
      ],
      "execution_count": null,
      "outputs": []
    },
    {
      "cell_type": "code",
      "metadata": {
        "colab": {
          "base_uri": "https://localhost:8080/",
          "height": 457
        },
        "id": "awC8qGROa9EE",
        "outputId": "0e0beffe-c3d8-4c59-f26b-19482eec2487"
      },
      "source": [
        "# plot the author whose books were read the most\n",
        "CountPlotN('Book-Author',books,15,'Top 15 Authors')"
      ],
      "execution_count": null,
      "outputs": [
        {
          "output_type": "display_data",
          "data": {
            "image/png": "[encoded data removed]",
            "text/plain": [
              "<Figure size 1080x504 with 1 Axes>"
            ]
          },
          "metadata": {
            "needs_background": "light"
          }
        }
      ]
    },
    {
      "cell_type": "code",
      "metadata": {
        "colab": {
          "base_uri": "https://localhost:8080/",
          "height": 457
        },
        "id": "LvZnfH-Lca3M",
        "outputId": "5d479f37-3af1-4979-8ef9-c974675af978"
      },
      "source": [
        "# publishers whoose books were read by the most readers\n",
        "CountPlotN('Publisher',books,15,'Top 15 Publishers')"
      ],
      "execution_count": null,
      "outputs": [
        {
          "output_type": "display_data",
          "data": {
            "image/png": "[encoded data removed]",
            "text/plain": [
              "<Figure size 1080x504 with 1 Axes>"
            ]
          },
          "metadata": {
            "needs_background": "light"
          }
        }
      ]
    },
    {
      "cell_type": "markdown",
      "metadata": {
        "id": "9gT1pJ6noB-M"
      },
      "source": [
        "### Users data cleaning"
      ]
    },
    {
      "cell_type": "code",
      "metadata": {
        "colab": {
          "base_uri": "https://localhost:8080/",
          "height": 206
        },
        "id": "qPVX7V5K5o85",
        "outputId": "686d4b9e-beaa-4d43-a3ba-a4cb78313df0"
      },
      "source": [
        "# look at the users\n",
        "users.head()"
      ],
      "execution_count": null,
      "outputs": [
        {
          "output_type": "execute_result",
          "data": {
            "text/html": [
              "<div>\n",
              "<style scoped>\n",
              "    .dataframe tbody tr th:only-of-type {\n",
              "        vertical-align: middle;\n",
              "    }\n",
              "\n",
              "    .dataframe tbody tr th {\n",
              "        vertical-align: top;\n",
              "    }\n",
              "\n",
              "    .dataframe thead th {\n",
              "        text-align: right;\n",
              "    }\n",
              "</style>\n",
              "<table border=\"1\" class=\"dataframe\">\n",
              "  <thead>\n",
              "    <tr style=\"text-align: right;\">\n",
              "      <th></th>\n",
              "      <th>User-ID</th>\n",
              "      <th>Location</th>\n",
              "      <th>Age</th>\n",
              "    </tr>\n",
              "  </thead>\n",
              "  <tbody>\n",
              "    <tr>\n",
              "      <th>0</th>\n",
              "      <td>1</td>\n",
              "      <td>nyc, new york, usa</td>\n",
              "      <td>NaN</td>\n",
              "    </tr>\n",
              "    <tr>\n",
              "      <th>1</th>\n",
              "      <td>2</td>\n",
              "      <td>stockton, california, usa</td>\n",
              "      <td>18.0</td>\n",
              "    </tr>\n",
              "    <tr>\n",
              "      <th>2</th>\n",
              "      <td>3</td>\n",
              "      <td>moscow, yukon territory, russia</td>\n",
              "      <td>NaN</td>\n",
              "    </tr>\n",
              "    <tr>\n",
              "      <th>3</th>\n",
              "      <td>4</td>\n",
              "      <td>porto, v.n.gaia, portugal</td>\n",
              "      <td>17.0</td>\n",
              "    </tr>\n",
              "    <tr>\n",
              "      <th>4</th>\n",
              "      <td>5</td>\n",
              "      <td>farnborough, hants, united kingdom</td>\n",
              "      <td>NaN</td>\n",
              "    </tr>\n",
              "  </tbody>\n",
              "</table>\n",
              "</div>"
            ],
            "text/plain": [
              "   User-ID                            Location   Age\n",
              "0        1                  nyc, new york, usa   NaN\n",
              "1        2           stockton, california, usa  18.0\n",
              "2        3     moscow, yukon territory, russia   NaN\n",
              "3        4           porto, v.n.gaia, portugal  17.0\n",
              "4        5  farnborough, hants, united kingdom   NaN"
            ]
          },
          "metadata": {},
          "execution_count": 37
        }
      ]
    },
    {
      "cell_type": "code",
      "metadata": {
        "colab": {
          "base_uri": "https://localhost:8080/"
        },
        "id": "KES424gbnLtU",
        "outputId": "40b29b8b-3580-4ff2-db44-8048d11b8e9d"
      },
      "source": [
        "# info\n",
        "users.info()"
      ],
      "execution_count": null,
      "outputs": [
        {
          "output_type": "stream",
          "name": "stdout",
          "text": [
            "<class 'pandas.core.frame.DataFrame'>\n",
            "RangeIndex: 278858 entries, 0 to 278857\n",
            "Data columns (total 3 columns):\n",
            " #   Column    Non-Null Count   Dtype  \n",
            "---  ------    --------------   -----  \n",
            " 0   User-ID   278858 non-null  int64  \n",
            " 1   Location  278858 non-null  object \n",
            " 2   Age       168096 non-null  float64\n",
            "dtypes: float64(1), int64(1), object(1)\n",
            "memory usage: 6.4+ MB\n"
          ]
        }
      ]
    },
    {
      "cell_type": "code",
      "metadata": {
        "colab": {
          "base_uri": "https://localhost:8080/"
        },
        "id": "4xJkzz8woLSd",
        "outputId": "c324bd9f-552a-43e8-99db-5603e76ba3a2"
      },
      "source": [
        "print(f\" Users dataset shape: {users.shape}\")\n",
        "print(f\" Columns of users dataset : {list(users.columns)}\")"
      ],
      "execution_count": null,
      "outputs": [
        {
          "output_type": "stream",
          "name": "stdout",
          "text": [
            " Users dataset shape: (278858, 3)\n",
            " Columns of users dataset : ['User-ID', 'Location', 'Age']\n"
          ]
        }
      ]
    },
    {
      "cell_type": "code",
      "metadata": {
        "colab": {
          "base_uri": "https://localhost:8080/"
        },
        "id": "GDWkv0HxrDPj",
        "outputId": "b3f39c4a-5dd6-4fa3-be12-07b221f4898e"
      },
      "source": [
        "# Checking for null values\n",
        "print(users.isna().sum())   "
      ],
      "execution_count": null,
      "outputs": [
        {
          "output_type": "stream",
          "name": "stdout",
          "text": [
            "User-ID          0\n",
            "Location         0\n",
            "Age         110762\n",
            "dtype: int64\n"
          ]
        }
      ]
    },
    {
      "cell_type": "code",
      "metadata": {
        "colab": {
          "base_uri": "https://localhost:8080/"
        },
        "id": "4dExAiyVrGVG",
        "outputId": "6371d647-5dae-41c2-88f9-1eecf2baafce"
      },
      "source": [
        "# Check for all unique values present in Age column\n",
        "print(sorted(list(users['Age'].unique())))"
      ],
      "execution_count": null,
      "outputs": [
        {
          "output_type": "stream",
          "name": "stdout",
          "text": [
            "[nan, 0.0, 1.0, 2.0, 3.0, 4.0, 5.0, 6.0, 7.0, 8.0, 9.0, 10.0, 11.0, 12.0, 13.0, 14.0, 15.0, 16.0, 17.0, 18.0, 19.0, 20.0, 21.0, 22.0, 23.0, 24.0, 25.0, 26.0, 27.0, 28.0, 29.0, 30.0, 31.0, 32.0, 33.0, 34.0, 35.0, 36.0, 37.0, 38.0, 39.0, 40.0, 41.0, 42.0, 43.0, 44.0, 45.0, 46.0, 47.0, 48.0, 49.0, 50.0, 51.0, 52.0, 53.0, 54.0, 55.0, 56.0, 57.0, 58.0, 59.0, 60.0, 61.0, 62.0, 63.0, 64.0, 65.0, 66.0, 67.0, 68.0, 69.0, 70.0, 71.0, 72.0, 73.0, 74.0, 75.0, 76.0, 77.0, 78.0, 79.0, 80.0, 81.0, 82.0, 83.0, 84.0, 85.0, 86.0, 87.0, 88.0, 89.0, 90.0, 91.0, 92.0, 93.0, 94.0, 95.0, 96.0, 97.0, 98.0, 99.0, 100.0, 101.0, 102.0, 103.0, 104.0, 105.0, 106.0, 107.0, 108.0, 109.0, 110.0, 111.0, 113.0, 114.0, 115.0, 116.0, 118.0, 119.0, 123.0, 124.0, 127.0, 128.0, 132.0, 133.0, 136.0, 137.0, 138.0, 140.0, 141.0, 143.0, 146.0, 147.0, 148.0, 151.0, 152.0, 156.0, 157.0, 159.0, 162.0, 168.0, 172.0, 175.0, 183.0, 186.0, 189.0, 199.0, 200.0, 201.0, 204.0, 207.0, 208.0, 209.0, 210.0, 212.0, 219.0, 220.0, 223.0, 226.0, 228.0, 229.0, 230.0, 231.0, 237.0, 239.0, 244.0]\n"
          ]
        }
      ]
    },
    {
      "cell_type": "code",
      "metadata": {
        "colab": {
          "base_uri": "https://localhost:8080/",
          "height": 313
        },
        "id": "nplnozRTXocf",
        "outputId": "cc5562df-787b-4bd0-8fc9-d9a20e69125a"
      },
      "source": [
        "# Dist Plot of users age\n",
        "sns.distplot(users.Age)\n",
        "plt.title('Distribution Plot of users age ')"
      ],
      "execution_count": null,
      "outputs": [
        {
          "output_type": "execute_result",
          "data": {
            "text/plain": [
              "Text(0.5, 1.0, 'Distribution Plot of users age ')"
            ]
          },
          "metadata": {},
          "execution_count": 42
        },
        {
          "output_type": "display_data",
          "data": {
            "image/png": "[encoded data removed]",
            "text/plain": [
              "<Figure size 432x288 with 1 Axes>"
            ]
          },
          "metadata": {
            "needs_background": "light"
          }
        }
      ]
    },
    {
      "cell_type": "code",
      "metadata": {
        "id": "a8LUys58pLqx"
      },
      "source": [
        "# CountPlotN('Age',users,len(users),'bal',1)"
      ],
      "execution_count": null,
      "outputs": []
    },
    {
      "cell_type": "markdown",
      "metadata": {
        "id": "aVEesHHoeoM2"
      },
      "source": [
        "### From the above list we can see that there are outliers in the dataset(age)"
      ]
    },
    {
      "cell_type": "code",
      "metadata": {
        "colab": {
          "base_uri": "https://localhost:8080/",
          "height": 286
        },
        "id": "_6CbTkNUeoM3",
        "outputId": "33b1cf3d-9697-4119-811f-030969d7027c"
      },
      "source": [
        "# boxplot before handling outliers \n",
        "sns.boxplot(y='Age', data=users)\n",
        "plt.title('Box plot of Age column before outlier removal')"
      ],
      "execution_count": null,
      "outputs": [
        {
          "output_type": "execute_result",
          "data": {
            "text/plain": [
              "Text(0.5, 1.0, 'Box plot of Age column before outlier removal')"
            ]
          },
          "metadata": {},
          "execution_count": 164
        },
        {
          "output_type": "display_data",
          "data": {
            "image/png": "[encoded data removed]",
            "text/plain": [
              "<Figure size 432x288 with 1 Axes>"
            ]
          },
          "metadata": {
            "needs_background": "light"
          }
        }
      ]
    },
    {
      "cell_type": "code",
      "metadata": {
        "colab": {
          "base_uri": "https://localhost:8080/"
        },
        "id": "cpnIB00yQPZy",
        "outputId": "a29230a3-9060-41e2-fe36-3aeed5275f7e"
      },
      "source": [
        "# claclulate the mean users age \n",
        "mean_user_age = round( users[(users['Age'] <= 90) & (users['Age'] >= 10)]['Age'].mean())\n",
        "mean_user_age"
      ],
      "execution_count": null,
      "outputs": [
        {
          "output_type": "execute_result",
          "data": {
            "text/plain": [
              "35"
            ]
          },
          "metadata": {},
          "execution_count": 203
        }
      ]
    },
    {
      "cell_type": "code",
      "metadata": {
        "id": "cjoYJ8_jST85"
      },
      "source": [
        "# outliers with age grater than 80 & age less than 10 years are substitued with mean users age\n",
        "users.loc[(users['Age'] > 90) | (users['Age'] < 10 ), 'Age'] = mean_user_age\n",
        "# filling null values with mean\n",
        "users['Age'] = users['Age'].fillna(mean_user_age)     \n",
        "# finally changing Datatype to int\n",
        "users['Age'] = users['Age'].astype(int)       "
      ],
      "execution_count": null,
      "outputs": []
    },
    {
      "cell_type": "code",
      "metadata": {
        "colab": {
          "base_uri": "https://localhost:8080/"
        },
        "id": "c-Q9LH5iS-RW",
        "outputId": "6417a7b7-d484-488d-a839-fb2c7865b9e3"
      },
      "source": [
        "# double check to see if missing values are present\n",
        "users['Age'].isna().sum()"
      ],
      "execution_count": null,
      "outputs": [
        {
          "output_type": "execute_result",
          "data": {
            "text/plain": [
              "0"
            ]
          },
          "metadata": {},
          "execution_count": 46
        }
      ]
    },
    {
      "cell_type": "code",
      "metadata": {
        "colab": {
          "base_uri": "https://localhost:8080/",
          "height": 313
        },
        "id": "A55UQEloX46L",
        "outputId": "0acf9346-78f3-49ec-ef1a-b2b727f7a5e8"
      },
      "source": [
        "# Dist Plot of users age after fillings missing values and treating outliers\n",
        "sns.distplot(users.Age)\n",
        "plt.title('Distribution Plot of users age after mean replacement')"
      ],
      "execution_count": null,
      "outputs": [
        {
          "output_type": "execute_result",
          "data": {
            "text/plain": [
              "Text(0.5, 1.0, 'Distribution Plot of users age after mean replacement')"
            ]
          },
          "metadata": {},
          "execution_count": 205
        },
        {
          "output_type": "display_data",
          "data": {
            "image/png": "[encoded data removed]",
            "text/plain": [
              "<Figure size 432x288 with 1 Axes>"
            ]
          },
          "metadata": {
            "needs_background": "light"
          }
        }
      ]
    },
    {
      "cell_type": "code",
      "metadata": {
        "colab": {
          "base_uri": "https://localhost:8080/",
          "height": 286
        },
        "id": "bCUn7DQge0C-",
        "outputId": "53fb4d9c-a809-431e-88dc-3bb926d12817"
      },
      "source": [
        "# boxplot after handling outliers \n",
        "sns.boxplot(y='Age', data=users)\n",
        "plt.title('Box plot of Age column after removing outliers')"
      ],
      "execution_count": null,
      "outputs": [
        {
          "output_type": "execute_result",
          "data": {
            "text/plain": [
              "Text(0.5, 1.0, 'Box plot of Age column after removing outliers')"
            ]
          },
          "metadata": {},
          "execution_count": 206
        },
        {
          "output_type": "display_data",
          "data": {
            "image/png": "[encoded data removed]",
            "text/plain": [
              "<Figure size 432x288 with 1 Axes>"
            ]
          },
          "metadata": {
            "needs_background": "light"
          }
        }
      ]
    },
    {
      "cell_type": "code",
      "metadata": {
        "id": "uYqPNO_IpotE"
      },
      "source": [
        "# CountPlotN('Age',users,len(users),'bal',1)"
      ],
      "execution_count": null,
      "outputs": []
    },
    {
      "cell_type": "markdown",
      "metadata": {
        "id": "iy431kq9T0Nr"
      },
      "source": [
        "Well we have successfully handled the removal of all the existing null values in the age column"
      ]
    },
    {
      "cell_type": "code",
      "metadata": {
        "id": "qR9bMj6FsHVT",
        "colab": {
          "base_uri": "https://localhost:8080/"
        },
        "outputId": "7dceed34-78b6-4e12-f5d2-7002a2c64176"
      },
      "source": [
        "# in the dataset allthe city-state-country are gropued together \n",
        "# the code below will help split these into their respective categorys and add them into the df as cols\n",
        "\n",
        "# split users location\n",
        "list_ = users.Location.str.split(', ')\n",
        "\n",
        "# lists of city,state & country\n",
        "city = []\n",
        "state = []\n",
        "country = []\n",
        "count_no_state = 0    \n",
        "count_no_country = 0\n",
        "\n",
        "# remove invalid entries too\n",
        "for i in range(0,len(list_)):\n",
        "    if list_[i][0] == ' ' or list_[i][0] == '' or list_[i][0]=='n/a' or list_[i][0] == ',':  \n",
        "        city.append('other')\n",
        "    else:\n",
        "        city.append(list_[i][0].lower())\n",
        "\n",
        "    if(len(list_[i])<2):\n",
        "        state.append('other')\n",
        "        country.append('other')\n",
        "        count_no_state += 1\n",
        "        count_no_country += 1\n",
        "    else:\n",
        "        if list_[i][1] == ' ' or list_[i][1] == '' or list_[i][1]=='n/a' or list_[i][1] == ',': \n",
        "            state.append('other')\n",
        "            count_no_state += 1            \n",
        "        else:\n",
        "            state.append(list_[i][1].lower())\n",
        "        \n",
        "        if(len(list_[i])<3):\n",
        "            country.append('other')\n",
        "            count_no_country += 1\n",
        "        else:\n",
        "            if list_[i][2] == ''or list_[i][1] == ',' or list_[i][2] == ' ' or list_[i][2] == 'n/a':\n",
        "                country.append('other')\n",
        "                count_no_country += 1\n",
        "            else:\n",
        "                country.append(list_[i][2].lower())\n",
        "\n",
        "# drop the locations col\n",
        "users = users.drop('Location',axis=1)\n",
        "\n",
        "temp = []\n",
        "for ent in city:\n",
        "    # handling cases where city/state entries from city list as state is already given \n",
        "    c = ent.split('/')            \n",
        "    temp.append(c[0])\n",
        "\n",
        "# create respective dataframes\n",
        "df_city = pd.DataFrame(temp,columns=['City'])\n",
        "df_state = pd.DataFrame(state,columns=['State'])\n",
        "df_country = pd.DataFrame(country,columns=['Country'])\n",
        "\n",
        "# add these newly created df to users df\n",
        "users = pd.concat([users, df_city], axis=1)\n",
        "users = pd.concat([users, df_state], axis=1)\n",
        "users = pd.concat([users, df_country], axis=1)\n",
        "\n",
        "# printing the number of countries didnt have any values \n",
        "print(count_no_country) \n",
        "# printing the states which didnt have any   \n",
        "print(count_no_state)     "
      ],
      "execution_count": null,
      "outputs": [
        {
          "output_type": "stream",
          "name": "stdout",
          "text": [
            "4659\n",
            "16044\n"
          ]
        }
      ]
    },
    {
      "cell_type": "code",
      "metadata": {
        "id": "sIHIkW7itKtv",
        "colab": {
          "base_uri": "https://localhost:8080/"
        },
        "outputId": "0f39f5d7-55f2-4753-c350-573d7b958a0a"
      },
      "source": [
        "# Drop duplicate rows\n",
        "users.drop_duplicates(keep='last', inplace=True)\n",
        "users.reset_index(drop=True, inplace=True)\n",
        "\n",
        "# size of df after dropping\n",
        "print(f'Shape of dataframe after dropping duplicates : {users.shape}')\n",
        "print(f'Number of duplicates dropped are : {278858 - users.shape[0]}')"
      ],
      "execution_count": null,
      "outputs": [
        {
          "output_type": "stream",
          "name": "stdout",
          "text": [
            "Shape of dataframe after dropping duplicates : (278858, 5)\n",
            "Number of duplicates dropped are : 0\n"
          ]
        }
      ]
    },
    {
      "cell_type": "code",
      "metadata": {
        "id": "WA3IebWnUu1A",
        "colab": {
          "base_uri": "https://localhost:8080/",
          "height": 457
        },
        "outputId": "4f085a97-a042-4209-9549-21aa0e0deea3"
      },
      "source": [
        "# readers across various countries\n",
        "CountPlotN('Country',users,15,'Number of users across various country(Top 15) ')"
      ],
      "execution_count": null,
      "outputs": [
        {
          "output_type": "display_data",
          "data": {
            "image/png": "[encoded data removed]",
            "text/plain": [
              "<Figure size 1080x504 with 1 Axes>"
            ]
          },
          "metadata": {
            "needs_background": "light"
          }
        }
      ]
    },
    {
      "cell_type": "code",
      "metadata": {
        "id": "JJl3B_iMWo4G",
        "colab": {
          "base_uri": "https://localhost:8080/",
          "height": 457
        },
        "outputId": "da593b41-f140-4c88-e3b5-a5a3a6f4e604"
      },
      "source": [
        "# excluding USA\n",
        "CountPlotN('Country',users[users['Country']!='usa'],15,'Number of users across various country (Top 15) Excluding USA')"
      ],
      "execution_count": null,
      "outputs": [
        {
          "output_type": "display_data",
          "data": {
            "image/png": "[encoded data removed]",
            "text/plain": [
              "<Figure size 1080x504 with 1 Axes>"
            ]
          },
          "metadata": {
            "needs_background": "light"
          }
        }
      ]
    },
    {
      "cell_type": "code",
      "metadata": {
        "id": "uJdxYc5wYzCl",
        "colab": {
          "base_uri": "https://localhost:8080/",
          "height": 457
        },
        "outputId": "f1cefa25-7d73-4d72-a29a-85ceb855ec71"
      },
      "source": [
        "# states with most readers globally\n",
        "CountPlotN('State',users,15,'Number of readers from each state worldwide (Top 15)')"
      ],
      "execution_count": null,
      "outputs": [
        {
          "output_type": "display_data",
          "data": {
            "image/png": "[encoded data removed]",
            "text/plain": [
              "<Figure size 1080x504 with 1 Axes>"
            ]
          },
          "metadata": {
            "needs_background": "light"
          }
        }
      ]
    },
    {
      "cell_type": "code",
      "metadata": {
        "id": "h0DECwg6aQRA",
        "colab": {
          "base_uri": "https://localhost:8080/",
          "height": 457
        },
        "outputId": "90ce8011-a592-4a17-bc6c-e9b378aa82b4"
      },
      "source": [
        "# states with most readers statewise in usa\n",
        "CountPlotN('State',users[users['Country']=='usa'],15,'Number of readers among various states of USA (Top 15)')"
      ],
      "execution_count": null,
      "outputs": [
        {
          "output_type": "display_data",
          "data": {
            "image/png": "[encoded data removed]",
            "text/plain": [
              "<Figure size 1080x504 with 1 Axes>"
            ]
          },
          "metadata": {
            "needs_background": "light"
          }
        }
      ]
    },
    {
      "cell_type": "code",
      "metadata": {
        "id": "ETkVTzwBeDh2",
        "colab": {
          "base_uri": "https://localhost:8080/",
          "height": 457
        },
        "outputId": "7e3f4bba-c6e3-44ad-cdf9-b935e413227c"
      },
      "source": [
        "# cities with most readers\n",
        "CountPlotN('City',users,15,'Number of readers from each city (Top 15)')"
      ],
      "execution_count": null,
      "outputs": [
        {
          "output_type": "display_data",
          "data": {
            "image/png": "[encoded data removed]",
            "text/plain": [
              "<Figure size 1080x504 with 1 Axes>"
            ]
          },
          "metadata": {
            "needs_background": "light"
          }
        }
      ]
    },
    {
      "cell_type": "markdown",
      "metadata": {
        "id": "_G9kp_4Dtaaa"
      },
      "source": [
        "### Ratings data cleaning"
      ]
    },
    {
      "cell_type": "code",
      "metadata": {
        "id": "ssd6Qh1D5v7E",
        "colab": {
          "base_uri": "https://localhost:8080/",
          "height": 206
        },
        "outputId": "7ec39150-8166-485f-e80f-94b75d6aa835"
      },
      "source": [
        "# look at the ratings data\n",
        "ratings.head()"
      ],
      "execution_count": null,
      "outputs": [
        {
          "output_type": "execute_result",
          "data": {
            "text/html": [
              "<div>\n",
              "<style scoped>\n",
              "    .dataframe tbody tr th:only-of-type {\n",
              "        vertical-align: middle;\n",
              "    }\n",
              "\n",
              "    .dataframe tbody tr th {\n",
              "        vertical-align: top;\n",
              "    }\n",
              "\n",
              "    .dataframe thead th {\n",
              "        text-align: right;\n",
              "    }\n",
              "</style>\n",
              "<table border=\"1\" class=\"dataframe\">\n",
              "  <thead>\n",
              "    <tr style=\"text-align: right;\">\n",
              "      <th></th>\n",
              "      <th>User-ID</th>\n",
              "      <th>ISBN</th>\n",
              "      <th>Book-Rating</th>\n",
              "    </tr>\n",
              "  </thead>\n",
              "  <tbody>\n",
              "    <tr>\n",
              "      <th>0</th>\n",
              "      <td>276725</td>\n",
              "      <td>034545104X</td>\n",
              "      <td>0</td>\n",
              "    </tr>\n",
              "    <tr>\n",
              "      <th>1</th>\n",
              "      <td>276726</td>\n",
              "      <td>0155061224</td>\n",
              "      <td>5</td>\n",
              "    </tr>\n",
              "    <tr>\n",
              "      <th>2</th>\n",
              "      <td>276727</td>\n",
              "      <td>0446520802</td>\n",
              "      <td>0</td>\n",
              "    </tr>\n",
              "    <tr>\n",
              "      <th>3</th>\n",
              "      <td>276729</td>\n",
              "      <td>052165615X</td>\n",
              "      <td>3</td>\n",
              "    </tr>\n",
              "    <tr>\n",
              "      <th>4</th>\n",
              "      <td>276729</td>\n",
              "      <td>0521795028</td>\n",
              "      <td>6</td>\n",
              "    </tr>\n",
              "  </tbody>\n",
              "</table>\n",
              "</div>"
            ],
            "text/plain": [
              "   User-ID        ISBN  Book-Rating\n",
              "0   276725  034545104X            0\n",
              "1   276726  0155061224            5\n",
              "2   276727  0446520802            0\n",
              "3   276729  052165615X            3\n",
              "4   276729  0521795028            6"
            ]
          },
          "metadata": {},
          "execution_count": 56
        }
      ]
    },
    {
      "cell_type": "code",
      "metadata": {
        "id": "4aONyU0_thJ_",
        "colab": {
          "base_uri": "https://localhost:8080/"
        },
        "outputId": "4f3da0db-b49a-4b80-a450-2201ff4fbbe6"
      },
      "source": [
        "# info\n",
        "ratings.info()"
      ],
      "execution_count": null,
      "outputs": [
        {
          "output_type": "stream",
          "name": "stdout",
          "text": [
            "<class 'pandas.core.frame.DataFrame'>\n",
            "RangeIndex: 1149780 entries, 0 to 1149779\n",
            "Data columns (total 3 columns):\n",
            " #   Column       Non-Null Count    Dtype \n",
            "---  ------       --------------    ----- \n",
            " 0   User-ID      1149780 non-null  int64 \n",
            " 1   ISBN         1149780 non-null  object\n",
            " 2   Book-Rating  1149780 non-null  int64 \n",
            "dtypes: int64(2), object(1)\n",
            "memory usage: 26.3+ MB\n"
          ]
        }
      ]
    },
    {
      "cell_type": "code",
      "metadata": {
        "id": "NEte6Q5OtWUP",
        "colab": {
          "base_uri": "https://localhost:8080/"
        },
        "outputId": "127dfcb3-58d7-4981-e44a-48642135ea57"
      },
      "source": [
        "print(f\"Book-ratings Data : {ratings.shape}\" )\n",
        "print(f\"Columns: {list(ratings.columns)}\" )"
      ],
      "execution_count": null,
      "outputs": [
        {
          "output_type": "stream",
          "name": "stdout",
          "text": [
            "Book-ratings Data : (1149780, 3)\n",
            "Columns: ['User-ID', 'ISBN', 'Book-Rating']\n"
          ]
        }
      ]
    },
    {
      "cell_type": "code",
      "metadata": {
        "id": "KiBvDOyJtth1",
        "colab": {
          "base_uri": "https://localhost:8080/"
        },
        "outputId": "6573ab4c-05a4-4ae2-f2af-8c0b2bbb4317"
      },
      "source": [
        "# Checking for null values\n",
        "ratings.isnull().sum() "
      ],
      "execution_count": null,
      "outputs": [
        {
          "output_type": "execute_result",
          "data": {
            "text/plain": [
              "User-ID        0\n",
              "ISBN           0\n",
              "Book-Rating    0\n",
              "dtype: int64"
            ]
          },
          "metadata": {},
          "execution_count": 59
        }
      ]
    },
    {
      "cell_type": "code",
      "metadata": {
        "id": "eda-3Z26tv06",
        "colab": {
          "base_uri": "https://localhost:8080/"
        },
        "outputId": "404efeee-3d80-4fbc-d459-b9f52cd85bc4"
      },
      "source": [
        "# checking User-ID & ratings contains only number or not\n",
        "print(is_numeric_dtype(ratings['Book-Rating']))\n",
        "print(is_numeric_dtype(ratings['User-ID']))"
      ],
      "execution_count": null,
      "outputs": [
        {
          "output_type": "stream",
          "name": "stdout",
          "text": [
            "True\n",
            "True\n"
          ]
        }
      ]
    },
    {
      "cell_type": "code",
      "metadata": {
        "id": "FXKxwYjhuAj-",
        "colab": {
          "base_uri": "https://localhost:8080/"
        },
        "outputId": "6479ac7b-4c13-40f4-cf97-36afbbc5a75f"
      },
      "source": [
        "# checking ISBN\n",
        "specialCharDetector(ratings,'ISBN')"
      ],
      "execution_count": null,
      "outputs": [
        {
          "output_type": "stream",
          "name": "stdout",
          "text": [
            " Special charecters found in ISBN\n"
          ]
        }
      ]
    },
    {
      "cell_type": "code",
      "metadata": {
        "id": "lomWIwRnswVd"
      },
      "source": [
        "# remove special chars from isbn in ratings\n",
        "# removeSpecialChar(ratings)"
      ],
      "execution_count": null,
      "outputs": []
    },
    {
      "cell_type": "code",
      "metadata": {
        "id": "oRruQBFHuXUc"
      },
      "source": [
        "# Uppercasing all alphabets in ISBN\n",
        "ratings['ISBN'] = ratings['ISBN'].str.upper()"
      ],
      "execution_count": null,
      "outputs": []
    },
    {
      "cell_type": "code",
      "metadata": {
        "id": "w8URHnn3up6g",
        "colab": {
          "base_uri": "https://localhost:8080/"
        },
        "outputId": "b2ac50db-66c2-4ad3-c505-5c7c8d9c09bf"
      },
      "source": [
        "# Drop duplicate rows\n",
        "ratings.drop_duplicates(keep='last', inplace=True)\n",
        "ratings.reset_index(drop=True, inplace=True)\n",
        "\n",
        "# size of df after dropping\n",
        "print(f'Shape of dataframe after dropping duplicates : {ratings.shape}')\n",
        "print(f'Number of duplicates dropped are : {1149780 - ratings.shape[0]}')"
      ],
      "execution_count": null,
      "outputs": [
        {
          "output_type": "stream",
          "name": "stdout",
          "text": [
            "Shape of dataframe after dropping duplicates : (1149780, 3)\n",
            "Number of duplicates dropped are : 0\n"
          ]
        }
      ]
    },
    {
      "cell_type": "code",
      "metadata": {
        "id": "6jv7WpGfdlGI"
      },
      "source": [
        "# frequntly used rating value\n",
        "# CountPlotN('Book-Rating',ratings,15,'most frequnt rating value')"
      ],
      "execution_count": null,
      "outputs": []
    },
    {
      "cell_type": "markdown",
      "metadata": {
        "id": "M59uvFOEeQju"
      },
      "source": [
        "the value for '0' seems to be dominant"
      ]
    },
    {
      "cell_type": "code",
      "metadata": {
        "id": "FGvVlen1eZNF"
      },
      "source": [
        "#Hence segragating implicit-0 and explict(~ 0) ratings datasets\n",
        "non_zero_ratings = ratings[ratings['Book-Rating'] != 0]\n",
        "zero_rating = ratings[ratings['Book-Rating'] == 0]"
      ],
      "execution_count": null,
      "outputs": []
    },
    {
      "cell_type": "code",
      "metadata": {
        "id": "IZLP21kRgXCm"
      },
      "source": [
        "# frequntly used rating value\n",
        "# CountPlotN('Book-Rating',non_zero_ratings,15,'most frequnt rating value excluding zero')"
      ],
      "execution_count": null,
      "outputs": []
    },
    {
      "cell_type": "markdown",
      "metadata": {
        "id": "MNHFThGMvGG9"
      },
      "source": [
        "### Merging of all three Tables\n",
        "(Merging Books, Users and Rating Tables into One)"
      ]
    },
    {
      "cell_type": "code",
      "metadata": {
        "colab": {
          "base_uri": "https://localhost:8080/"
        },
        "id": "_rqwhPeBusyP",
        "outputId": "1452c709-3e58-4a87-ce8b-3e3e4b5c5a5e"
      },
      "source": [
        "# merging all three dataframes\n",
        "df = pd.merge(books, non_zero_ratings, on='ISBN', how='inner')\n",
        "df = pd.merge(df, users, on='User-ID', how='inner')\n",
        "df.info()"
      ],
      "execution_count": null,
      "outputs": [
        {
          "output_type": "stream",
          "name": "stdout",
          "text": [
            "<class 'pandas.core.frame.DataFrame'>\n",
            "Int64Index: 383958 entries, 0 to 383957\n",
            "Data columns (total 11 columns):\n",
            " #   Column               Non-Null Count   Dtype \n",
            "---  ------               --------------   ----- \n",
            " 0   ISBN                 383958 non-null  object\n",
            " 1   Book-Title           383958 non-null  object\n",
            " 2   Book-Author          383958 non-null  object\n",
            " 3   Year-Of-Publication  383958 non-null  int64 \n",
            " 4   Publisher            383958 non-null  object\n",
            " 5   User-ID              383958 non-null  int64 \n",
            " 6   Book-Rating          383958 non-null  int64 \n",
            " 7   Age                  383958 non-null  int64 \n",
            " 8   City                 383958 non-null  object\n",
            " 9   State                383958 non-null  object\n",
            " 10  Country              383958 non-null  object\n",
            "dtypes: int64(4), object(7)\n",
            "memory usage: 35.2+ MB\n"
          ]
        }
      ]
    },
    {
      "cell_type": "code",
      "metadata": {
        "id": "gsrzzOhivUPu"
      },
      "source": [
        "# head of new dataframe\n",
        "# df.head()"
      ],
      "execution_count": null,
      "outputs": []
    },
    {
      "cell_type": "code",
      "metadata": {
        "id": "q9rwGZpuhxkG"
      },
      "source": [
        "# final check for null values across the new df\n",
        "# df.isna().sum().sum()"
      ],
      "execution_count": null,
      "outputs": []
    },
    {
      "cell_type": "markdown",
      "metadata": {
        "id": "fNyxm1Y5jo9Y"
      },
      "source": [
        "## Recommender Systems"
      ]
    },
    {
      "cell_type": "markdown",
      "metadata": {
        "id": "GbLVUy12kDQ7"
      },
      "source": [
        "### 1. Popularity Based (Most-Read / Max-Rated)"
      ]
    },
    {
      "cell_type": "code",
      "metadata": {
        "id": "4IxRle5ejdWI"
      },
      "source": [
        "# fucntion that returns a df based on either on most read or most rated\n",
        "def popularityBasedMaxR(data_frame, n,count_flag=0):\n",
        "    # procedd only if n is greater than 0 and less than the df-length \n",
        "    if n >= 1 and n <= len(data_frame):\n",
        "      # decide to take ratings sum or count \n",
        "      if count_flag :\n",
        "        # grouop df on each ISBN, and count it's occurances\n",
        "        series_data = data_frame.groupby('ISBN')['Book-Rating'].count()\n",
        "      else:\n",
        "        # group df on each ISBN, and add it's rating \n",
        "        series_data = data_frame.groupby('ISBN')['Book-Rating'].sum()\n",
        "      # sort the values descendingly and create a new df - choose the number of items required\n",
        "      data = pd.DataFrame(series_data).sort_values('Book-Rating', ascending=False).head(n)\n",
        "      # merge the new dataframe and books df on ISBN\n",
        "      result = pd.merge(data, books, on='ISBN', left_index = True)\n",
        "      return result\n",
        "    # incase of error\n",
        "    return \"Invalid number of books entered!!\""
      ],
      "execution_count": null,
      "outputs": []
    },
    {
      "cell_type": "code",
      "metadata": {
        "id": "7PIVs0FwkYGl"
      },
      "source": [
        "# number of books to be recomended\n",
        "recomm_number = 5 #int(input(\" Enter number of books to be recommended : \"))"
      ],
      "execution_count": null,
      "outputs": []
    },
    {
      "cell_type": "code",
      "metadata": {
        "colab": {
          "base_uri": "https://localhost:8080/",
          "height": 220
        },
        "id": "YDRpwlKNlTkP",
        "outputId": "459aa435-48ba-448d-ff00-31d350a6b8ac"
      },
      "source": [
        "# book_rating_count = df.groupby('ISBN')['Book-Rating'].count()\n",
        "print(f\"Top {recomm_number} books based on most number of readers are: \")\n",
        "popularityBasedMaxR(df, recomm_number,1)"
      ],
      "execution_count": null,
      "outputs": [
        {
          "output_type": "stream",
          "name": "stdout",
          "text": [
            "Top 5 books based on most number of readers are: \n"
          ]
        },
        {
          "output_type": "execute_result",
          "data": {
            "text/html": [
              "<div>\n",
              "<style scoped>\n",
              "    .dataframe tbody tr th:only-of-type {\n",
              "        vertical-align: middle;\n",
              "    }\n",
              "\n",
              "    .dataframe tbody tr th {\n",
              "        vertical-align: top;\n",
              "    }\n",
              "\n",
              "    .dataframe thead th {\n",
              "        text-align: right;\n",
              "    }\n",
              "</style>\n",
              "<table border=\"1\" class=\"dataframe\">\n",
              "  <thead>\n",
              "    <tr style=\"text-align: right;\">\n",
              "      <th></th>\n",
              "      <th>ISBN</th>\n",
              "      <th>Book-Rating</th>\n",
              "      <th>Book-Title</th>\n",
              "      <th>Book-Author</th>\n",
              "      <th>Year-Of-Publication</th>\n",
              "      <th>Publisher</th>\n",
              "    </tr>\n",
              "  </thead>\n",
              "  <tbody>\n",
              "    <tr>\n",
              "      <th>401</th>\n",
              "      <td>0316666343</td>\n",
              "      <td>707</td>\n",
              "      <td>The Lovely Bones: A Novel</td>\n",
              "      <td>Alice Sebold</td>\n",
              "      <td>2002</td>\n",
              "      <td>Little, Brown</td>\n",
              "    </tr>\n",
              "    <tr>\n",
              "      <th>26</th>\n",
              "      <td>0971880107</td>\n",
              "      <td>581</td>\n",
              "      <td>Wild Animus</td>\n",
              "      <td>Rich Shapero</td>\n",
              "      <td>2004</td>\n",
              "      <td>Too Far</td>\n",
              "    </tr>\n",
              "    <tr>\n",
              "      <th>734</th>\n",
              "      <td>0385504209</td>\n",
              "      <td>488</td>\n",
              "      <td>The Da Vinci Code</td>\n",
              "      <td>Dan Brown</td>\n",
              "      <td>2003</td>\n",
              "      <td>Doubleday</td>\n",
              "    </tr>\n",
              "    <tr>\n",
              "      <th>513</th>\n",
              "      <td>0312195516</td>\n",
              "      <td>383</td>\n",
              "      <td>The Red Tent (Bestselling Backlist)</td>\n",
              "      <td>Anita Diamant</td>\n",
              "      <td>1998</td>\n",
              "      <td>Picador USA</td>\n",
              "    </tr>\n",
              "    <tr>\n",
              "      <th>1086</th>\n",
              "      <td>0060928336</td>\n",
              "      <td>320</td>\n",
              "      <td>Divine Secrets of the Ya-Ya Sisterhood: A Novel</td>\n",
              "      <td>Rebecca Wells</td>\n",
              "      <td>1997</td>\n",
              "      <td>Perennial</td>\n",
              "    </tr>\n",
              "  </tbody>\n",
              "</table>\n",
              "</div>"
            ],
            "text/plain": [
              "            ISBN  Book-Rating  ... Year-Of-Publication      Publisher\n",
              "401   0316666343          707  ...                2002  Little, Brown\n",
              "26    0971880107          581  ...                2004        Too Far\n",
              "734   0385504209          488  ...                2003      Doubleday\n",
              "513   0312195516          383  ...                1998    Picador USA\n",
              "1086  0060928336          320  ...                1997      Perennial\n",
              "\n",
              "[5 rows x 6 columns]"
            ]
          },
          "metadata": {},
          "execution_count": 73
        }
      ]
    },
    {
      "cell_type": "code",
      "metadata": {
        "colab": {
          "base_uri": "https://localhost:8080/",
          "height": 220
        },
        "id": "DmD0X96glUYZ",
        "outputId": "079016f9-c526-4ac5-d385-844ae7390931"
      },
      "source": [
        "# book_rating_sum = df.groupby('ISBN')['Book-Rating'].sum()\n",
        "print(f\"Top {recomm_number} books based on highest total ratings recieved are: \")\n",
        "popularityBasedMaxR(df, recomm_number)"
      ],
      "execution_count": null,
      "outputs": [
        {
          "output_type": "stream",
          "name": "stdout",
          "text": [
            "Top 5 books based on highest total ratings recieved are: \n"
          ]
        },
        {
          "output_type": "execute_result",
          "data": {
            "text/html": [
              "<div>\n",
              "<style scoped>\n",
              "    .dataframe tbody tr th:only-of-type {\n",
              "        vertical-align: middle;\n",
              "    }\n",
              "\n",
              "    .dataframe tbody tr th {\n",
              "        vertical-align: top;\n",
              "    }\n",
              "\n",
              "    .dataframe thead th {\n",
              "        text-align: right;\n",
              "    }\n",
              "</style>\n",
              "<table border=\"1\" class=\"dataframe\">\n",
              "  <thead>\n",
              "    <tr style=\"text-align: right;\">\n",
              "      <th></th>\n",
              "      <th>ISBN</th>\n",
              "      <th>Book-Rating</th>\n",
              "      <th>Book-Title</th>\n",
              "      <th>Book-Author</th>\n",
              "      <th>Year-Of-Publication</th>\n",
              "      <th>Publisher</th>\n",
              "    </tr>\n",
              "  </thead>\n",
              "  <tbody>\n",
              "    <tr>\n",
              "      <th>401</th>\n",
              "      <td>0316666343</td>\n",
              "      <td>5787</td>\n",
              "      <td>The Lovely Bones: A Novel</td>\n",
              "      <td>Alice Sebold</td>\n",
              "      <td>2002</td>\n",
              "      <td>Little, Brown</td>\n",
              "    </tr>\n",
              "    <tr>\n",
              "      <th>734</th>\n",
              "      <td>0385504209</td>\n",
              "      <td>4112</td>\n",
              "      <td>The Da Vinci Code</td>\n",
              "      <td>Dan Brown</td>\n",
              "      <td>2003</td>\n",
              "      <td>Doubleday</td>\n",
              "    </tr>\n",
              "    <tr>\n",
              "      <th>513</th>\n",
              "      <td>0312195516</td>\n",
              "      <td>3134</td>\n",
              "      <td>The Red Tent (Bestselling Backlist)</td>\n",
              "      <td>Anita Diamant</td>\n",
              "      <td>1998</td>\n",
              "      <td>Picador USA</td>\n",
              "    </tr>\n",
              "    <tr>\n",
              "      <th>77151</th>\n",
              "      <td>059035342X</td>\n",
              "      <td>2815</td>\n",
              "      <td>Harry Potter and the Sorcerer's Stone (Harry P...</td>\n",
              "      <td>J. K. Rowling</td>\n",
              "      <td>1999</td>\n",
              "      <td>Arthur A. Levine Books</td>\n",
              "    </tr>\n",
              "    <tr>\n",
              "      <th>352</th>\n",
              "      <td>0142001740</td>\n",
              "      <td>2655</td>\n",
              "      <td>The Secret Life of Bees</td>\n",
              "      <td>Sue Monk Kidd</td>\n",
              "      <td>2003</td>\n",
              "      <td>Penguin Books</td>\n",
              "    </tr>\n",
              "  </tbody>\n",
              "</table>\n",
              "</div>"
            ],
            "text/plain": [
              "             ISBN  Book-Rating  ... Year-Of-Publication               Publisher\n",
              "401    0316666343         5787  ...                2002           Little, Brown\n",
              "734    0385504209         4112  ...                2003               Doubleday\n",
              "513    0312195516         3134  ...                1998             Picador USA\n",
              "77151  059035342X         2815  ...                1999  Arthur A. Levine Books\n",
              "352    0142001740         2655  ...                2003           Penguin Books\n",
              "\n",
              "[5 rows x 6 columns]"
            ]
          },
          "metadata": {},
          "execution_count": 74
        }
      ]
    },
    {
      "cell_type": "markdown",
      "metadata": {
        "id": "-AF94cio_OFo"
      },
      "source": [
        "Above two dataframes represent most read books and highest voted books although the first book seems to be common in both but we see that even though 'The Da Vinci Code' was read by less people compared to 'Wild Animus' it still holds the second spot on the most rated books whereas the book 'Wild Animus' itn't among the top 5 most rated books. further down the list we can see few differences among both the dataframes"
      ]
    },
    {
      "cell_type": "markdown",
      "metadata": {
        "id": "bWiEQ26U3BQH"
      },
      "source": [
        "### 2. Location Based (Most read/popular in the given location)"
      ]
    },
    {
      "cell_type": "code",
      "metadata": {
        "id": "YfZiii743CB2"
      },
      "source": [
        "# that searches for most read/most voted books in a region\n",
        "def searchLocation(dataframe, place):\n",
        "    ''' A function that takes in a Dataframe and placename, then is given out a\n",
        "     dataframe that contains data of books based on the given location '''\n",
        "    place = place.lower()\n",
        "    # check for country\n",
        "    if place in (dataframe['Country'].unique()):\n",
        "        return dataframe[dataframe['Country'] == place]\n",
        "    # check for state\n",
        "    elif place in (dataframe['State'].unique()):\n",
        "        return dataframe[dataframe['State'] == place]\n",
        "    # check for city\n",
        "    elif place in (dataframe['City'].unique()):\n",
        "        return dataframe[dataframe['City'] == place]\n",
        "    else:\n",
        "        return \"Invalid Entry\""
      ],
      "execution_count": null,
      "outputs": []
    },
    {
      "cell_type": "code",
      "metadata": {
        "colab": {
          "base_uri": "https://localhost:8080/",
          "height": 220
        },
        "id": "meStsQD83ax2",
        "outputId": "d813dc2b-d7a5-493f-f295-737b06ce971a"
      },
      "source": [
        "place = 'India' #input(\"Enter the name of place: \")\n",
        "# place - examples India / USA or any Other country\n",
        "data = searchLocation(df, place)\n",
        "\n",
        "# check if data(location based df) is a dataframe\n",
        "if not isinstance(data, pd.DataFrame):\n",
        "    print('No books found in your specified area')\n",
        "else:\n",
        "    # run the popularity model based on most rated at given location\n",
        "    data = popularityBasedMaxR(data, recomm_number,1)\n",
        "    print(f'Highest Rated book(s) in {place} are : ')\n",
        "data"
      ],
      "execution_count": null,
      "outputs": [
        {
          "output_type": "stream",
          "name": "stdout",
          "text": [
            "Highest Rated book(s) in India are : \n"
          ]
        },
        {
          "output_type": "execute_result",
          "data": {
            "text/html": [
              "<div>\n",
              "<style scoped>\n",
              "    .dataframe tbody tr th:only-of-type {\n",
              "        vertical-align: middle;\n",
              "    }\n",
              "\n",
              "    .dataframe tbody tr th {\n",
              "        vertical-align: top;\n",
              "    }\n",
              "\n",
              "    .dataframe thead th {\n",
              "        text-align: right;\n",
              "    }\n",
              "</style>\n",
              "<table border=\"1\" class=\"dataframe\">\n",
              "  <thead>\n",
              "    <tr style=\"text-align: right;\">\n",
              "      <th></th>\n",
              "      <th>ISBN</th>\n",
              "      <th>Book-Rating</th>\n",
              "      <th>Book-Title</th>\n",
              "      <th>Book-Author</th>\n",
              "      <th>Year-Of-Publication</th>\n",
              "      <th>Publisher</th>\n",
              "    </tr>\n",
              "  </thead>\n",
              "  <tbody>\n",
              "    <tr>\n",
              "      <th>26</th>\n",
              "      <td>0971880107</td>\n",
              "      <td>3</td>\n",
              "      <td>Wild Animus</td>\n",
              "      <td>Rich Shapero</td>\n",
              "      <td>2004</td>\n",
              "      <td>Too Far</td>\n",
              "    </tr>\n",
              "    <tr>\n",
              "      <th>166</th>\n",
              "      <td>0671047612</td>\n",
              "      <td>2</td>\n",
              "      <td>Skin And Bones</td>\n",
              "      <td>Franklin W. Dixon</td>\n",
              "      <td>2000</td>\n",
              "      <td>Aladdin</td>\n",
              "    </tr>\n",
              "    <tr>\n",
              "      <th>164</th>\n",
              "      <td>0486284735</td>\n",
              "      <td>2</td>\n",
              "      <td>Pride and Prejudice (Dover Thrift Editions)</td>\n",
              "      <td>Jane Austen</td>\n",
              "      <td>1995</td>\n",
              "      <td>Dover Publications</td>\n",
              "    </tr>\n",
              "    <tr>\n",
              "      <th>9596</th>\n",
              "      <td>8171670407</td>\n",
              "      <td>2</td>\n",
              "      <td>Inscrutable Americans</td>\n",
              "      <td>Mathur Anurag</td>\n",
              "      <td>1996</td>\n",
              "      <td>South Asia Books</td>\n",
              "    </tr>\n",
              "    <tr>\n",
              "      <th>72379</th>\n",
              "      <td>0006944035</td>\n",
              "      <td>1</td>\n",
              "      <td>Secret Island / Secret Mountain (Two-in-ones)</td>\n",
              "      <td>Enid Blyton</td>\n",
              "      <td>1994</td>\n",
              "      <td>HarperCollins Publishers</td>\n",
              "    </tr>\n",
              "  </tbody>\n",
              "</table>\n",
              "</div>"
            ],
            "text/plain": [
              "             ISBN  Book-Rating  ... Year-Of-Publication                 Publisher\n",
              "26     0971880107            3  ...                2004                   Too Far\n",
              "166    0671047612            2  ...                2000                   Aladdin\n",
              "164    0486284735            2  ...                1995        Dover Publications\n",
              "9596   8171670407            2  ...                1996          South Asia Books\n",
              "72379  0006944035            1  ...                1994  HarperCollins Publishers\n",
              "\n",
              "[5 rows x 6 columns]"
            ]
          },
          "metadata": {},
          "execution_count": 76
        }
      ]
    },
    {
      "cell_type": "markdown",
      "metadata": {
        "id": "sYnuqRIxAola"
      },
      "source": [
        "### 3. Books by Author or Publisher"
      ]
    },
    {
      "cell_type": "code",
      "metadata": {
        "id": "EY8TzWUA6L0w"
      },
      "source": [
        "# print books of a dataframe\n",
        "def printBook(k, n):\n",
        "  ''' a function that prints n required books\n",
        "      k - dataframe,\n",
        "      n - number of top n elements '''\n",
        "  # get a set of names of books present in the df(k)\n",
        "  z = k['Book-Title'].unique()\n",
        "  # loop through book titles and print them\n",
        "  for x in range(len(z)):\n",
        "        print(z[x])\n",
        "        if x >= n-1:\n",
        "            break"
      ],
      "execution_count": null,
      "outputs": []
    },
    {
      "cell_type": "code",
      "metadata": {
        "id": "SoO9AViRBAsz"
      },
      "source": [
        "# get books suggestions of pirticular author or publisher\n",
        "def getBooks(dataframe, name, n, col_name):\n",
        "  ''' taking a dataframe as input,name= bookname, \n",
        "      n = number of top n elements required,\n",
        "      col_name = columns_name of author or publisher '''\n",
        "\n",
        "  print(f\"\\nBooks by same {col_name}:\\n\")\n",
        "  # a list of all authors/publishers for requested books\n",
        "  name_list = dataframe[col_name].unique()\n",
        "  # print('1')\n",
        "  # exclude the requested book from suggestions\n",
        "  data = df[df['Book-Title'] != name]\n",
        "  # print('2')          \n",
        "  # check if author/publisher name is in the dataframe\n",
        "  if name_list[0] in data[col_name].unique(): \n",
        "    # a df(k) that contain books of chosen author/publisher\n",
        "    k = data[data[col_name] == name_list[0]]\n",
        "  # sort and print the df(k)\n",
        "  k = k.sort_values(by=['Book-Rating'])\n",
        "  printBook(k, n)"
      ],
      "execution_count": null,
      "outputs": []
    },
    {
      "cell_type": "code",
      "metadata": {
        "colab": {
          "base_uri": "https://localhost:8080/"
        },
        "id": "7sXMeNyMBaO8",
        "outputId": "8a66735d-1b8f-4be3-d402-7cd01d35a29c"
      },
      "source": [
        "bookName = input(\"Enter a book name: \")\n",
        "# ex - Harry Potter and the Sorcerer's Stone (Harry Potter (Paperback))\n",
        "\n",
        "# check if book exists in the set of book-titles\n",
        "if bookName in list(df['Book-Title'].unique()):\n",
        "    # send a df of the requested book\n",
        "    d = df[df['Book-Title'] == bookName]\n",
        "    # loop the function and print out publishers and authors\n",
        "    for col_name in ['Book-Author', 'Publisher']:\n",
        "      getBooks(d, bookName, recomm_number, col_name)\n",
        "      print('-'*30)\n",
        "else:\n",
        "    # in case the requested book does not exist in the dataset\n",
        "    print(\"Oops!! the requested book does not seem to be present \")\n"
      ],
      "execution_count": null,
      "outputs": [
        {
          "output_type": "stream",
          "name": "stdout",
          "text": [
            "Enter a book name: Harry Potter and the Sorcerer's Stone (Harry Potter (Paperback))\n",
            "\n",
            "Books by same Book-Author:\n",
            "\n",
            "Harry Potter and the Goblet of Fire (Book 4)\n",
            "Harry Potter and the Order of the Phoenix (Book 5)\n",
            "Harry Potter and the Chamber of Secrets (Book 2)\n",
            "Harry Potter y el cÃ¡liz de fuego\n",
            "Harry Potter and the Prisoner of Azkaban (Book 3)\n",
            "------------------------------\n",
            "\n",
            "Books by same Publisher:\n",
            "\n",
            "The Seeing Stone\n",
            "The Slightly True Story of Cedar B. Hartley: Who Planned to Live an Unusual Life\n",
            "The Story of the Seagull and the Cat Who Taught Her To Fly\n",
            "Harry Potter and the Chamber of Secrets (Harry Potter)\n",
            "Book! Book! Book!\n",
            "------------------------------\n"
          ]
        }
      ]
    },
    {
      "cell_type": "markdown",
      "metadata": {
        "id": "5wK7HvCzE5hk"
      },
      "source": [
        "### 4. Books by Yearly popularity\n"
      ]
    },
    {
      "cell_type": "code",
      "metadata": {
        "colab": {
          "base_uri": "https://localhost:8080/",
          "height": 1000
        },
        "id": "uUWYHSUADC1M",
        "outputId": "33d321cf-1864-45a0-928d-35379c39a9e3"
      },
      "source": [
        "# data = pd.DataFrame(df.groupby('ISBN')['Book-Rating'].count()).sort_values('Book-Rating', ascending=False)\n",
        "# data = pd.merge(data, books, on='ISBN', left_index = True)\n",
        "\n",
        "# display all columns and rows\n",
        "pd.set_option(\"display.max_rows\", None, \"display.max_columns\", None)\n",
        "# selecting book with most ratings at the top\n",
        "max_rating_df = popularityBasedMaxR(df, len(df),1)\n",
        "\n",
        "years = set()\n",
        "indices = []\n",
        "# loop through the max-rating df\n",
        "for ind, row in max_rating_df.iterrows():\n",
        "    # append to indices if the publication-year is found in years-list\n",
        "    if row['Year-Of-Publication'] in years:\n",
        "        indices.append(ind)\n",
        "    else:\n",
        "        # add to years\n",
        "        years.add(row['Year-Of-Publication'])\n",
        "\n",
        "# sort and restructure df based on publication-year\n",
        "data = max_rating_df.drop(indices)\n",
        "data = data.drop('Book-Rating', axis = 1)\n",
        "data = data.sort_values('Year-Of-Publication')\n",
        "\n",
        "print('Most Popular books across various years are :')\n",
        "data"
      ],
      "execution_count": null,
      "outputs": [
        {
          "output_type": "stream",
          "name": "stdout",
          "text": [
            "Most Popular books across various years are :\n"
          ]
        },
        {
          "output_type": "execute_result",
          "data": {
            "text/html": [
              "<div>\n",
              "<style scoped>\n",
              "    .dataframe tbody tr th:only-of-type {\n",
              "        vertical-align: middle;\n",
              "    }\n",
              "\n",
              "    .dataframe tbody tr th {\n",
              "        vertical-align: top;\n",
              "    }\n",
              "\n",
              "    .dataframe thead th {\n",
              "        text-align: right;\n",
              "    }\n",
              "</style>\n",
              "<table border=\"1\" class=\"dataframe\">\n",
              "  <thead>\n",
              "    <tr style=\"text-align: right;\">\n",
              "      <th></th>\n",
              "      <th>ISBN</th>\n",
              "      <th>Book-Title</th>\n",
              "      <th>Book-Author</th>\n",
              "      <th>Year-Of-Publication</th>\n",
              "      <th>Publisher</th>\n",
              "    </tr>\n",
              "  </thead>\n",
              "  <tbody>\n",
              "    <tr>\n",
              "      <th>171529</th>\n",
              "      <td>0781228956</td>\n",
              "      <td>Complete Works 10 Volumes [2,6,7,8,9] (Notable...</td>\n",
              "      <td>Benjamin Franklin</td>\n",
              "      <td>1806</td>\n",
              "      <td>Reprint Services Corp</td>\n",
              "    </tr>\n",
              "    <tr>\n",
              "      <th>211547</th>\n",
              "      <td>1551103982</td>\n",
              "      <td>The Cycling Adventures of Coconut Head: A Nort...</td>\n",
              "      <td>Ted Schredd</td>\n",
              "      <td>1900</td>\n",
              "      <td>Graphic Arts Center Pub Co</td>\n",
              "    </tr>\n",
              "    <tr>\n",
              "      <th>262204</th>\n",
              "      <td>0671397214</td>\n",
              "      <td>JOY OF MUSIC     P</td>\n",
              "      <td>Leonard Bernstein</td>\n",
              "      <td>1901</td>\n",
              "      <td>Fireside</td>\n",
              "    </tr>\n",
              "    <tr>\n",
              "      <th>102242</th>\n",
              "      <td>0373226888</td>\n",
              "      <td>Tommy's Mom</td>\n",
              "      <td>Linda O. Johnston</td>\n",
              "      <td>1902</td>\n",
              "      <td>Harlequin</td>\n",
              "    </tr>\n",
              "    <tr>\n",
              "      <th>45599</th>\n",
              "      <td>038528120X</td>\n",
              "      <td>CATCH 22</td>\n",
              "      <td>JOSEPH HELLER</td>\n",
              "      <td>1904</td>\n",
              "      <td>Delta</td>\n",
              "    </tr>\n",
              "    <tr>\n",
              "      <th>170683</th>\n",
              "      <td>0404089119</td>\n",
              "      <td>Charlotte Bronte and Her Sisters</td>\n",
              "      <td>Clement K. Shorter</td>\n",
              "      <td>1906</td>\n",
              "      <td>Ams Pr</td>\n",
              "    </tr>\n",
              "    <tr>\n",
              "      <th>159472</th>\n",
              "      <td>0911662251</td>\n",
              "      <td>Kybalion: A Study of the Hermetic Philosophy o...</td>\n",
              "      <td>Three Initiates</td>\n",
              "      <td>1908</td>\n",
              "      <td>Yoga Publication Society</td>\n",
              "    </tr>\n",
              "    <tr>\n",
              "      <th>191891</th>\n",
              "      <td>0892760508</td>\n",
              "      <td>New Birth</td>\n",
              "      <td>Kenneth Hagin</td>\n",
              "      <td>1911</td>\n",
              "      <td>Faith Library Publications</td>\n",
              "    </tr>\n",
              "    <tr>\n",
              "      <th>8369</th>\n",
              "      <td>0684717603</td>\n",
              "      <td>The GREAT GATSBY (Scribner Classic)</td>\n",
              "      <td>F. Scott Fritzgerald</td>\n",
              "      <td>1920</td>\n",
              "      <td>Scribner Paper Fiction</td>\n",
              "    </tr>\n",
              "    <tr>\n",
              "      <th>60245</th>\n",
              "      <td>0440745454</td>\n",
              "      <td>HOW TO EAT FRIED WORMS</td>\n",
              "      <td>THOMAS ROCKWELL</td>\n",
              "      <td>1923</td>\n",
              "      <td>Yearling</td>\n",
              "    </tr>\n",
              "    <tr>\n",
              "      <th>198308</th>\n",
              "      <td>0486600815</td>\n",
              "      <td>Principle of Relativity (Dover Books on Physics)</td>\n",
              "      <td>Albert Einstein</td>\n",
              "      <td>1924</td>\n",
              "      <td>Dover Publications</td>\n",
              "    </tr>\n",
              "    <tr>\n",
              "      <th>120296</th>\n",
              "      <td>0023381205</td>\n",
              "      <td>Great Gatsby, The</td>\n",
              "      <td>F. Scott Fitzgerald</td>\n",
              "      <td>1925</td>\n",
              "      <td>Prentice Hall</td>\n",
              "    </tr>\n",
              "    <tr>\n",
              "      <th>34910</th>\n",
              "      <td>0684718081</td>\n",
              "      <td>The Sun Also Rises</td>\n",
              "      <td>Ernest Hemingway</td>\n",
              "      <td>1926</td>\n",
              "      <td>Scribner Book Company</td>\n",
              "    </tr>\n",
              "    <tr>\n",
              "      <th>62792</th>\n",
              "      <td>0448089033</td>\n",
              "      <td>The Secret of the Old Mill (The Hardy Boys Mys...</td>\n",
              "      <td>Franklin W. Dixon</td>\n",
              "      <td>1927</td>\n",
              "      <td>Grosset &amp;amp; Dunlap</td>\n",
              "    </tr>\n",
              "    <tr>\n",
              "      <th>182072</th>\n",
              "      <td>9997520858</td>\n",
              "      <td>Beau Ideal</td>\n",
              "      <td>Percival C. Wren</td>\n",
              "      <td>1928</td>\n",
              "      <td>Stokes Pub Co</td>\n",
              "    </tr>\n",
              "    <tr>\n",
              "      <th>54024</th>\n",
              "      <td>0684717972</td>\n",
              "      <td>Farewell to Arms</td>\n",
              "      <td>Ernest Hemingway</td>\n",
              "      <td>1929</td>\n",
              "      <td>Charles Scribner's Sons</td>\n",
              "    </tr>\n",
              "    <tr>\n",
              "      <th>11326</th>\n",
              "      <td>0448095017</td>\n",
              "      <td>The Secret of the Old Clock (Nancy Drew Myster...</td>\n",
              "      <td>Carolyn Keene</td>\n",
              "      <td>1930</td>\n",
              "      <td>Grosset &amp;amp; Dunlap</td>\n",
              "    </tr>\n",
              "    <tr>\n",
              "      <th>167762</th>\n",
              "      <td>074752694X</td>\n",
              "      <td>Bloomsbury Good Reading Guide</td>\n",
              "      <td>Kenneth McLeish</td>\n",
              "      <td>1931</td>\n",
              "      <td>Trafalgar Square Publishing</td>\n",
              "    </tr>\n",
              "    <tr>\n",
              "      <th>51668</th>\n",
              "      <td>0448095076</td>\n",
              "      <td>The Clue in the Diary (Nancy Drew Mystery Stor...</td>\n",
              "      <td>Carolyn Keene</td>\n",
              "      <td>1932</td>\n",
              "      <td>Imagination Studio</td>\n",
              "    </tr>\n",
              "    <tr>\n",
              "      <th>171066</th>\n",
              "      <td>0804617279</td>\n",
              "      <td>Legends of Angria,</td>\n",
              "      <td>Charlotte Bronte</td>\n",
              "      <td>1933</td>\n",
              "      <td>Gateway/Associated Faculty Pr</td>\n",
              "    </tr>\n",
              "    <tr>\n",
              "      <th>80855</th>\n",
              "      <td>0961505109</td>\n",
              "      <td>Narrow Land: Folk Chronicles of Old Cape Cod (...</td>\n",
              "      <td>Elizabeth Reynard</td>\n",
              "      <td>1934</td>\n",
              "      <td>Parnassus Press</td>\n",
              "    </tr>\n",
              "    <tr>\n",
              "      <th>186151</th>\n",
              "      <td>0882436600</td>\n",
              "      <td>Through the Bible Book by Book: Genesis to Est...</td>\n",
              "      <td>Myer Pearlman</td>\n",
              "      <td>1935</td>\n",
              "      <td>Gospel Publishing House</td>\n",
              "    </tr>\n",
              "    <tr>\n",
              "      <th>11012</th>\n",
              "      <td>068483068X</td>\n",
              "      <td>Gone With the Wind</td>\n",
              "      <td>Margaret Mitchell</td>\n",
              "      <td>1936</td>\n",
              "      <td>Scribner</td>\n",
              "    </tr>\n",
              "    <tr>\n",
              "      <th>102614</th>\n",
              "      <td>0802812201</td>\n",
              "      <td>Descent into Hell</td>\n",
              "      <td>Charles Williams</td>\n",
              "      <td>1937</td>\n",
              "      <td>Wm. B. Eerdmans Publishing Company</td>\n",
              "    </tr>\n",
              "    <tr>\n",
              "      <th>36471</th>\n",
              "      <td>0395071224</td>\n",
              "      <td>The Hobbit</td>\n",
              "      <td>J. R. R. Tolkien</td>\n",
              "      <td>1938</td>\n",
              "      <td>Houghton Mifflin Company</td>\n",
              "    </tr>\n",
              "    <tr>\n",
              "      <th>42375</th>\n",
              "      <td>999750805X</td>\n",
              "      <td>The Happy Highwayman</td>\n",
              "      <td>Leslie Charteris</td>\n",
              "      <td>1939</td>\n",
              "      <td>Doubleday</td>\n",
              "    </tr>\n",
              "    <tr>\n",
              "      <th>5931</th>\n",
              "      <td>044808919X</td>\n",
              "      <td>Disappearing Floor (Hardy Boys Mystery Stories)</td>\n",
              "      <td>Franklin W. Dixon</td>\n",
              "      <td>1940</td>\n",
              "      <td>Grosset &amp;amp; Dunlap</td>\n",
              "    </tr>\n",
              "    <tr>\n",
              "      <th>92485</th>\n",
              "      <td>0448089203</td>\n",
              "      <td>Mystery of the Flying Express, (Hardy Boys Mys...</td>\n",
              "      <td>Franklin W. Dixon</td>\n",
              "      <td>1941</td>\n",
              "      <td>Grosset &amp;amp; Dunlap</td>\n",
              "    </tr>\n",
              "    <tr>\n",
              "      <th>2038</th>\n",
              "      <td>0060901012</td>\n",
              "      <td>Brave New World &amp;amp; Brave New World Revisited</td>\n",
              "      <td>Aldous Huxley</td>\n",
              "      <td>1942</td>\n",
              "      <td>Perennial</td>\n",
              "    </tr>\n",
              "    <tr>\n",
              "      <th>81316</th>\n",
              "      <td>0152465030</td>\n",
              "      <td>The Little Prince</td>\n",
              "      <td>Antoine De Saint-Exupery</td>\n",
              "      <td>1943</td>\n",
              "      <td>Harcourt</td>\n",
              "    </tr>\n",
              "    <tr>\n",
              "      <th>207770</th>\n",
              "      <td>0394906012</td>\n",
              "      <td>The Black Stallion</td>\n",
              "      <td>WALTER FARLEY</td>\n",
              "      <td>1944</td>\n",
              "      <td>Random House Books for Young Readers</td>\n",
              "    </tr>\n",
              "    <tr>\n",
              "      <th>61127</th>\n",
              "      <td>0060263954</td>\n",
              "      <td>Stuart Little 60th Anniversary Edition</td>\n",
              "      <td>E. B. White</td>\n",
              "      <td>1945</td>\n",
              "      <td>HarperCollins</td>\n",
              "    </tr>\n",
              "    <tr>\n",
              "      <th>10647</th>\n",
              "      <td>0448060043</td>\n",
              "      <td>Alice in Wonderland and Through the Looking Gl...</td>\n",
              "      <td>Charles Lutwidge Dodgson</td>\n",
              "      <td>1946</td>\n",
              "      <td>Grosset &amp;amp; Dunlap</td>\n",
              "    </tr>\n",
              "    <tr>\n",
              "      <th>20297</th>\n",
              "      <td>0448095246</td>\n",
              "      <td>The Clue in the Old Album (Nancy Drew Mystery ...</td>\n",
              "      <td>Carolyn Keene</td>\n",
              "      <td>1947</td>\n",
              "      <td>Grosset &amp;amp; Dunlap</td>\n",
              "    </tr>\n",
              "    <tr>\n",
              "      <th>104768</th>\n",
              "      <td>0875160476</td>\n",
              "      <td>Secret Science Behind Miracles</td>\n",
              "      <td>Max F. Long</td>\n",
              "      <td>1948</td>\n",
              "      <td>DeVorss &amp;amp; Company</td>\n",
              "    </tr>\n",
              "    <tr>\n",
              "      <th>79388</th>\n",
              "      <td>0448095262</td>\n",
              "      <td>Clue of the Leaning Chimney (Nancy Drew (Hardc...</td>\n",
              "      <td>Carolyn Keene</td>\n",
              "      <td>1949</td>\n",
              "      <td>Grosset &amp;amp; Dunlap</td>\n",
              "    </tr>\n",
              "    <tr>\n",
              "      <th>2959</th>\n",
              "      <td>0553213601</td>\n",
              "      <td>Cyrano De Bergerac (Bantam Classics)</td>\n",
              "      <td>EDMOND ROSTAND</td>\n",
              "      <td>1950</td>\n",
              "      <td>Bantam</td>\n",
              "    </tr>\n",
              "    <tr>\n",
              "      <th>18916</th>\n",
              "      <td>081120068X</td>\n",
              "      <td>Siddhartha</td>\n",
              "      <td>Hermann Hesse</td>\n",
              "      <td>1951</td>\n",
              "      <td>New Directions Publishing Corporation</td>\n",
              "    </tr>\n",
              "    <tr>\n",
              "      <th>54034</th>\n",
              "      <td>0060263857</td>\n",
              "      <td>Charlotte's Web</td>\n",
              "      <td>E. B. White</td>\n",
              "      <td>1952</td>\n",
              "      <td>Harpercollins Juvenile Books</td>\n",
              "    </tr>\n",
              "    <tr>\n",
              "      <th>15503</th>\n",
              "      <td>0064400026</td>\n",
              "      <td>Little House on the Prairie</td>\n",
              "      <td>Laura Ingalls Wilder</td>\n",
              "      <td>1953</td>\n",
              "      <td>HarperTrophy</td>\n",
              "    </tr>\n",
              "    <tr>\n",
              "      <th>20725</th>\n",
              "      <td>0395083567</td>\n",
              "      <td>My Antonia</td>\n",
              "      <td>Willa Sibert Cather</td>\n",
              "      <td>1954</td>\n",
              "      <td>Houghton Mifflin</td>\n",
              "    </tr>\n",
              "    <tr>\n",
              "      <th>15808</th>\n",
              "      <td>0156838389</td>\n",
              "      <td>Sophocles, The Oedipus Cycle: Oedipus Rex, Oed...</td>\n",
              "      <td>Dudley Fitts</td>\n",
              "      <td>1955</td>\n",
              "      <td>Harvest Books</td>\n",
              "    </tr>\n",
              "    <tr>\n",
              "      <th>1685</th>\n",
              "      <td>0872860175</td>\n",
              "      <td>Howl and Other Poems (Pocket Poets)</td>\n",
              "      <td>Allen Ginsberg</td>\n",
              "      <td>1956</td>\n",
              "      <td>City Lights Publishers</td>\n",
              "    </tr>\n",
              "    <tr>\n",
              "      <th>198221</th>\n",
              "      <td>039480001X</td>\n",
              "      <td>The Cat in the Hat</td>\n",
              "      <td>Dr. Seuss</td>\n",
              "      <td>1957</td>\n",
              "      <td>Random House Books for Young Readers</td>\n",
              "    </tr>\n",
              "    <tr>\n",
              "      <th>20061</th>\n",
              "      <td>0394800028</td>\n",
              "      <td>The Cat in the Hat Comes Back (I Can Read It A...</td>\n",
              "      <td>Dr. Seuss</td>\n",
              "      <td>1958</td>\n",
              "      <td>Random House Books for Young Readers</td>\n",
              "    </tr>\n",
              "    <tr>\n",
              "      <th>1735</th>\n",
              "      <td>0399501487</td>\n",
              "      <td>Lord of the Flies</td>\n",
              "      <td>William Gerald Golding</td>\n",
              "      <td>1959</td>\n",
              "      <td>Perigee Trade</td>\n",
              "    </tr>\n",
              "    <tr>\n",
              "      <th>21611</th>\n",
              "      <td>0394800168</td>\n",
              "      <td>Green Eggs and Ham (I Can Read It All by Mysel...</td>\n",
              "      <td>Dr. Seuss</td>\n",
              "      <td>1960</td>\n",
              "      <td>Random House Books for Young Readers</td>\n",
              "    </tr>\n",
              "    <tr>\n",
              "      <th>6394</th>\n",
              "      <td>0394800206</td>\n",
              "      <td>Go, Dog, Go (I Can Read It All by Myself Begin...</td>\n",
              "      <td>Philip D. Eastman</td>\n",
              "      <td>1961</td>\n",
              "      <td>Random House Children's Books</td>\n",
              "    </tr>\n",
              "    <tr>\n",
              "      <th>99197</th>\n",
              "      <td>0140441212</td>\n",
              "      <td>Bhagavad Gita (Penguin Classics)</td>\n",
              "      <td>Juan Mascaro</td>\n",
              "      <td>1962</td>\n",
              "      <td>Penguin Books</td>\n",
              "    </tr>\n",
              "    <tr>\n",
              "      <th>26155</th>\n",
              "      <td>039480029X</td>\n",
              "      <td>Hop on Pop (I Can Read It All by Myself Beginn...</td>\n",
              "      <td>Dr. Seuss</td>\n",
              "      <td>1963</td>\n",
              "      <td>Random House Books for Young Readers</td>\n",
              "    </tr>\n",
              "    <tr>\n",
              "      <th>13198</th>\n",
              "      <td>0060256656</td>\n",
              "      <td>The Giving Tree</td>\n",
              "      <td>Shel Silverstein</td>\n",
              "      <td>1964</td>\n",
              "      <td>HarperCollins Publishers</td>\n",
              "    </tr>\n",
              "    <tr>\n",
              "      <th>461</th>\n",
              "      <td>0553210092</td>\n",
              "      <td>The Scarlet Letter</td>\n",
              "      <td>NATHANIEL HAWTHORNE</td>\n",
              "      <td>1965</td>\n",
              "      <td>Bantam</td>\n",
              "    </tr>\n",
              "    <tr>\n",
              "      <th>10390</th>\n",
              "      <td>055314300X</td>\n",
              "      <td>Bourne Identity</td>\n",
              "      <td>Robert Ludlum</td>\n",
              "      <td>1966</td>\n",
              "      <td>Bantam Doubleday Dell</td>\n",
              "    </tr>\n",
              "    <tr>\n",
              "      <th>28552</th>\n",
              "      <td>0140430229</td>\n",
              "      <td>Gulliver's Travels (Penguin Classics)</td>\n",
              "      <td>Jonathan Swift</td>\n",
              "      <td>1967</td>\n",
              "      <td>Penguin Books</td>\n",
              "    </tr>\n",
              "    <tr>\n",
              "      <th>382</th>\n",
              "      <td>0156528207</td>\n",
              "      <td>The Little Prince</td>\n",
              "      <td>Antoine de Saint-ExupÃ©ry</td>\n",
              "      <td>1968</td>\n",
              "      <td>Harcourt</td>\n",
              "    </tr>\n",
              "    <tr>\n",
              "      <th>22813</th>\n",
              "      <td>0440435749</td>\n",
              "      <td>The High King (Chronicles of Prydain (Paperback))</td>\n",
              "      <td>LLOYD ALEXANDER</td>\n",
              "      <td>1969</td>\n",
              "      <td>Yearling</td>\n",
              "    </tr>\n",
              "    <tr>\n",
              "      <th>9370</th>\n",
              "      <td>0020442203</td>\n",
              "      <td>Lion, the Witch and the Wardrobe</td>\n",
              "      <td>C.S. Lewis</td>\n",
              "      <td>1970</td>\n",
              "      <td>MacMillan Publishing Company.</td>\n",
              "    </tr>\n",
              "    <tr>\n",
              "      <th>4157</th>\n",
              "      <td>0440439884</td>\n",
              "      <td>Island of the Blue Dolphins</td>\n",
              "      <td>SCOTT O'DELL</td>\n",
              "      <td>1971</td>\n",
              "      <td>Random House Children's Books</td>\n",
              "    </tr>\n",
              "    <tr>\n",
              "      <th>8123</th>\n",
              "      <td>0553213695</td>\n",
              "      <td>The Metamorphosis (Bantam Classics)</td>\n",
              "      <td>FRANZ KAFKA</td>\n",
              "      <td>1972</td>\n",
              "      <td>Bantam</td>\n",
              "    </tr>\n",
              "    <tr>\n",
              "      <th>1373</th>\n",
              "      <td>0394404289</td>\n",
              "      <td>The Prophet</td>\n",
              "      <td>Kahlil Gibran</td>\n",
              "      <td>1973</td>\n",
              "      <td>Alfred A. Knopf</td>\n",
              "    </tr>\n",
              "    <tr>\n",
              "      <th>3805</th>\n",
              "      <td>0064400557</td>\n",
              "      <td>Charlotte's Web (Trophy Newbery)</td>\n",
              "      <td>E. B. White</td>\n",
              "      <td>1974</td>\n",
              "      <td>HarperTrophy</td>\n",
              "    </tr>\n",
              "    <tr>\n",
              "      <th>36200</th>\n",
              "      <td>038000321X</td>\n",
              "      <td>Alive : The Story of the Andes Survivors (Avon...</td>\n",
              "      <td>Piers Paul Read</td>\n",
              "      <td>1975</td>\n",
              "      <td>Avon</td>\n",
              "    </tr>\n",
              "    <tr>\n",
              "      <th>3138</th>\n",
              "      <td>0380002930</td>\n",
              "      <td>Watership Down</td>\n",
              "      <td>Richard Adams</td>\n",
              "      <td>1976</td>\n",
              "      <td>Avon</td>\n",
              "    </tr>\n",
              "    <tr>\n",
              "      <th>462</th>\n",
              "      <td>0553258524</td>\n",
              "      <td>Dragonsong (Harper Hall Trilogy)</td>\n",
              "      <td>Anne McCaffrey</td>\n",
              "      <td>1977</td>\n",
              "      <td>Bantam</td>\n",
              "    </tr>\n",
              "    <tr>\n",
              "      <th>1190</th>\n",
              "      <td>0380018179</td>\n",
              "      <td>The Thorn Birds</td>\n",
              "      <td>Colleen McCullough</td>\n",
              "      <td>1978</td>\n",
              "      <td>Avon</td>\n",
              "    </tr>\n",
              "    <tr>\n",
              "      <th>8390</th>\n",
              "      <td>0440901588</td>\n",
              "      <td>A Swiftly Tilting Planet</td>\n",
              "      <td>Madeleine L'Engle</td>\n",
              "      <td>1979</td>\n",
              "      <td>Laure Leaf</td>\n",
              "    </tr>\n",
              "    <tr>\n",
              "      <th>3574</th>\n",
              "      <td>0671250671</td>\n",
              "      <td>ROAD LESS TRAVELED : A New Psychology of Love,...</td>\n",
              "      <td>M. Scott Peck</td>\n",
              "      <td>1980</td>\n",
              "      <td>Touchstone</td>\n",
              "    </tr>\n",
              "    <tr>\n",
              "      <th>3236</th>\n",
              "      <td>0553208845</td>\n",
              "      <td>Siddhartha</td>\n",
              "      <td>Hermann Hesse</td>\n",
              "      <td>1981</td>\n",
              "      <td>Bantam Classics</td>\n",
              "    </tr>\n",
              "    <tr>\n",
              "      <th>3709</th>\n",
              "      <td>0553272535</td>\n",
              "      <td>Night</td>\n",
              "      <td>Elie Wiesel</td>\n",
              "      <td>1982</td>\n",
              "      <td>Bantam Books</td>\n",
              "    </tr>\n",
              "    <tr>\n",
              "      <th>72</th>\n",
              "      <td>0140067477</td>\n",
              "      <td>The Tao of Pooh</td>\n",
              "      <td>Benjamin Hoff</td>\n",
              "      <td>1983</td>\n",
              "      <td>Penguin Books</td>\n",
              "    </tr>\n",
              "    <tr>\n",
              "      <th>14845</th>\n",
              "      <td>0553250426</td>\n",
              "      <td>The Clan of the Cave Bear (Earth's Children (P...</td>\n",
              "      <td>Jean M. Auel</td>\n",
              "      <td>1984</td>\n",
              "      <td>Bantam Books</td>\n",
              "    </tr>\n",
              "    <tr>\n",
              "      <th>2525</th>\n",
              "      <td>0671617028</td>\n",
              "      <td>The Color Purple</td>\n",
              "      <td>Alice Walker</td>\n",
              "      <td>1985</td>\n",
              "      <td>Pocket Books</td>\n",
              "    </tr>\n",
              "    <tr>\n",
              "      <th>3320</th>\n",
              "      <td>0345339681</td>\n",
              "      <td>The Hobbit : The Enchanting Prelude to The Lor...</td>\n",
              "      <td>J.R.R. TOLKIEN</td>\n",
              "      <td>1986</td>\n",
              "      <td>Del Rey</td>\n",
              "    </tr>\n",
              "    <tr>\n",
              "      <th>2202</th>\n",
              "      <td>0345342968</td>\n",
              "      <td>Fahrenheit 451</td>\n",
              "      <td>RAY BRADBURY</td>\n",
              "      <td>1987</td>\n",
              "      <td>Del Rey</td>\n",
              "    </tr>\n",
              "    <tr>\n",
              "      <th>37</th>\n",
              "      <td>0446310786</td>\n",
              "      <td>To Kill a Mockingbird</td>\n",
              "      <td>Harper Lee</td>\n",
              "      <td>1988</td>\n",
              "      <td>Little Brown &amp;amp; Company</td>\n",
              "    </tr>\n",
              "    <tr>\n",
              "      <th>507</th>\n",
              "      <td>0060915544</td>\n",
              "      <td>The Bean Trees</td>\n",
              "      <td>Barbara Kingsolver</td>\n",
              "      <td>1989</td>\n",
              "      <td>Perennial</td>\n",
              "    </tr>\n",
              "    <tr>\n",
              "      <th>1366</th>\n",
              "      <td>0345361792</td>\n",
              "      <td>A Prayer for Owen Meany</td>\n",
              "      <td>John Irving</td>\n",
              "      <td>1990</td>\n",
              "      <td>Ballantine Books</td>\n",
              "    </tr>\n",
              "    <tr>\n",
              "      <th>89</th>\n",
              "      <td>0316769487</td>\n",
              "      <td>The Catcher in the Rye</td>\n",
              "      <td>J.D. Salinger</td>\n",
              "      <td>1991</td>\n",
              "      <td>Little, Brown</td>\n",
              "    </tr>\n",
              "    <tr>\n",
              "      <th>119226</th>\n",
              "      <td>044021145X</td>\n",
              "      <td>The Firm</td>\n",
              "      <td>John Grisham</td>\n",
              "      <td>1992</td>\n",
              "      <td>Bantam Dell Publishing Group</td>\n",
              "    </tr>\n",
              "    <tr>\n",
              "      <th>2497</th>\n",
              "      <td>0345337662</td>\n",
              "      <td>Interview with the Vampire</td>\n",
              "      <td>Anne Rice</td>\n",
              "      <td>1993</td>\n",
              "      <td>Ballantine Books</td>\n",
              "    </tr>\n",
              "    <tr>\n",
              "      <th>66</th>\n",
              "      <td>0804106304</td>\n",
              "      <td>The Joy Luck Club</td>\n",
              "      <td>Amy Tan</td>\n",
              "      <td>1994</td>\n",
              "      <td>Prentice Hall (K-12)</td>\n",
              "    </tr>\n",
              "    <tr>\n",
              "      <th>113954</th>\n",
              "      <td>067976402X</td>\n",
              "      <td>Snow Falling on Cedars</td>\n",
              "      <td>David Guterson</td>\n",
              "      <td>1995</td>\n",
              "      <td>Vintage Books USA</td>\n",
              "    </tr>\n",
              "    <tr>\n",
              "      <th>1087</th>\n",
              "      <td>0671003755</td>\n",
              "      <td>She's Come Undone (Oprah's Book Club (Paperback))</td>\n",
              "      <td>Wally Lamb</td>\n",
              "      <td>1996</td>\n",
              "      <td>Washington Square Press</td>\n",
              "    </tr>\n",
              "    <tr>\n",
              "      <th>1086</th>\n",
              "      <td>0060928336</td>\n",
              "      <td>Divine Secrets of the Ya-Ya Sisterhood: A Novel</td>\n",
              "      <td>Rebecca Wells</td>\n",
              "      <td>1997</td>\n",
              "      <td>Perennial</td>\n",
              "    </tr>\n",
              "    <tr>\n",
              "      <th>513</th>\n",
              "      <td>0312195516</td>\n",
              "      <td>The Red Tent (Bestselling Backlist)</td>\n",
              "      <td>Anita Diamant</td>\n",
              "      <td>1998</td>\n",
              "      <td>Picador USA</td>\n",
              "    </tr>\n",
              "    <tr>\n",
              "      <th>77151</th>\n",
              "      <td>059035342X</td>\n",
              "      <td>Harry Potter and the Sorcerer's Stone (Harry P...</td>\n",
              "      <td>J. K. Rowling</td>\n",
              "      <td>1999</td>\n",
              "      <td>Arthur A. Levine Books</td>\n",
              "    </tr>\n",
              "    <tr>\n",
              "      <th>4385</th>\n",
              "      <td>0375727345</td>\n",
              "      <td>House of Sand and Fog</td>\n",
              "      <td>Andre Dubus III</td>\n",
              "      <td>2000</td>\n",
              "      <td>Vintage Books</td>\n",
              "    </tr>\n",
              "    <tr>\n",
              "      <th>188607</th>\n",
              "      <td>044023722X</td>\n",
              "      <td>A Painted House</td>\n",
              "      <td>John Grisham</td>\n",
              "      <td>2001</td>\n",
              "      <td>Dell Publishing Company</td>\n",
              "    </tr>\n",
              "    <tr>\n",
              "      <th>401</th>\n",
              "      <td>0316666343</td>\n",
              "      <td>The Lovely Bones: A Novel</td>\n",
              "      <td>Alice Sebold</td>\n",
              "      <td>2002</td>\n",
              "      <td>Little, Brown</td>\n",
              "    </tr>\n",
              "    <tr>\n",
              "      <th>734</th>\n",
              "      <td>0385504209</td>\n",
              "      <td>The Da Vinci Code</td>\n",
              "      <td>Dan Brown</td>\n",
              "      <td>2003</td>\n",
              "      <td>Doubleday</td>\n",
              "    </tr>\n",
              "    <tr>\n",
              "      <th>26</th>\n",
              "      <td>0971880107</td>\n",
              "      <td>Wild Animus</td>\n",
              "      <td>Rich Shapero</td>\n",
              "      <td>2004</td>\n",
              "      <td>Too Far</td>\n",
              "    </tr>\n",
              "  </tbody>\n",
              "</table>\n",
              "</div>"
            ],
            "text/plain": [
              "              ISBN                                         Book-Title  \\\n",
              "171529  0781228956  Complete Works 10 Volumes [2,6,7,8,9] (Notable...   \n",
              "211547  1551103982  The Cycling Adventures of Coconut Head: A Nort...   \n",
              "262204  0671397214                                 JOY OF MUSIC     P   \n",
              "102242  0373226888                                        Tommy's Mom   \n",
              "45599   038528120X                                           CATCH 22   \n",
              "170683  0404089119                   Charlotte Bronte and Her Sisters   \n",
              "159472  0911662251  Kybalion: A Study of the Hermetic Philosophy o...   \n",
              "191891  0892760508                                          New Birth   \n",
              "8369    0684717603                The GREAT GATSBY (Scribner Classic)   \n",
              "60245   0440745454                             HOW TO EAT FRIED WORMS   \n",
              "198308  0486600815   Principle of Relativity (Dover Books on Physics)   \n",
              "120296  0023381205                                  Great Gatsby, The   \n",
              "34910   0684718081                                 The Sun Also Rises   \n",
              "62792   0448089033  The Secret of the Old Mill (The Hardy Boys Mys...   \n",
              "182072  9997520858                                         Beau Ideal   \n",
              "54024   0684717972                                   Farewell to Arms   \n",
              "11326   0448095017  The Secret of the Old Clock (Nancy Drew Myster...   \n",
              "167762  074752694X                      Bloomsbury Good Reading Guide   \n",
              "51668   0448095076  The Clue in the Diary (Nancy Drew Mystery Stor...   \n",
              "171066  0804617279                                 Legends of Angria,   \n",
              "80855   0961505109  Narrow Land: Folk Chronicles of Old Cape Cod (...   \n",
              "186151  0882436600  Through the Bible Book by Book: Genesis to Est...   \n",
              "11012   068483068X                                 Gone With the Wind   \n",
              "102614  0802812201                                  Descent into Hell   \n",
              "36471   0395071224                                         The Hobbit   \n",
              "42375   999750805X                               The Happy Highwayman   \n",
              "5931    044808919X    Disappearing Floor (Hardy Boys Mystery Stories)   \n",
              "92485   0448089203  Mystery of the Flying Express, (Hardy Boys Mys...   \n",
              "2038    0060901012    Brave New World &amp; Brave New World Revisited   \n",
              "81316   0152465030                                  The Little Prince   \n",
              "207770  0394906012                                 The Black Stallion   \n",
              "61127   0060263954             Stuart Little 60th Anniversary Edition   \n",
              "10647   0448060043  Alice in Wonderland and Through the Looking Gl...   \n",
              "20297   0448095246  The Clue in the Old Album (Nancy Drew Mystery ...   \n",
              "104768  0875160476                     Secret Science Behind Miracles   \n",
              "79388   0448095262  Clue of the Leaning Chimney (Nancy Drew (Hardc...   \n",
              "2959    0553213601               Cyrano De Bergerac (Bantam Classics)   \n",
              "18916   081120068X                                         Siddhartha   \n",
              "54034   0060263857                                    Charlotte's Web   \n",
              "15503   0064400026                        Little House on the Prairie   \n",
              "20725   0395083567                                         My Antonia   \n",
              "15808   0156838389  Sophocles, The Oedipus Cycle: Oedipus Rex, Oed...   \n",
              "1685    0872860175                Howl and Other Poems (Pocket Poets)   \n",
              "198221  039480001X                                 The Cat in the Hat   \n",
              "20061   0394800028  The Cat in the Hat Comes Back (I Can Read It A...   \n",
              "1735    0399501487                                  Lord of the Flies   \n",
              "21611   0394800168  Green Eggs and Ham (I Can Read It All by Mysel...   \n",
              "6394    0394800206  Go, Dog, Go (I Can Read It All by Myself Begin...   \n",
              "99197   0140441212                   Bhagavad Gita (Penguin Classics)   \n",
              "26155   039480029X  Hop on Pop (I Can Read It All by Myself Beginn...   \n",
              "13198   0060256656                                    The Giving Tree   \n",
              "461     0553210092                                 The Scarlet Letter   \n",
              "10390   055314300X                                    Bourne Identity   \n",
              "28552   0140430229              Gulliver's Travels (Penguin Classics)   \n",
              "382     0156528207                                  The Little Prince   \n",
              "22813   0440435749  The High King (Chronicles of Prydain (Paperback))   \n",
              "9370    0020442203                   Lion, the Witch and the Wardrobe   \n",
              "4157    0440439884                        Island of the Blue Dolphins   \n",
              "8123    0553213695                The Metamorphosis (Bantam Classics)   \n",
              "1373    0394404289                                        The Prophet   \n",
              "3805    0064400557                   Charlotte's Web (Trophy Newbery)   \n",
              "36200   038000321X  Alive : The Story of the Andes Survivors (Avon...   \n",
              "3138    0380002930                                     Watership Down   \n",
              "462     0553258524                   Dragonsong (Harper Hall Trilogy)   \n",
              "1190    0380018179                                    The Thorn Birds   \n",
              "8390    0440901588                           A Swiftly Tilting Planet   \n",
              "3574    0671250671  ROAD LESS TRAVELED : A New Psychology of Love,...   \n",
              "3236    0553208845                                         Siddhartha   \n",
              "3709    0553272535                                              Night   \n",
              "72      0140067477                                    The Tao of Pooh   \n",
              "14845   0553250426  The Clan of the Cave Bear (Earth's Children (P...   \n",
              "2525    0671617028                                   The Color Purple   \n",
              "3320    0345339681  The Hobbit : The Enchanting Prelude to The Lor...   \n",
              "2202    0345342968                                     Fahrenheit 451   \n",
              "37      0446310786                              To Kill a Mockingbird   \n",
              "507     0060915544                                     The Bean Trees   \n",
              "1366    0345361792                            A Prayer for Owen Meany   \n",
              "89      0316769487                             The Catcher in the Rye   \n",
              "119226  044021145X                                           The Firm   \n",
              "2497    0345337662                         Interview with the Vampire   \n",
              "66      0804106304                                  The Joy Luck Club   \n",
              "113954  067976402X                             Snow Falling on Cedars   \n",
              "1087    0671003755  She's Come Undone (Oprah's Book Club (Paperback))   \n",
              "1086    0060928336    Divine Secrets of the Ya-Ya Sisterhood: A Novel   \n",
              "513     0312195516                The Red Tent (Bestselling Backlist)   \n",
              "77151   059035342X  Harry Potter and the Sorcerer's Stone (Harry P...   \n",
              "4385    0375727345                              House of Sand and Fog   \n",
              "188607  044023722X                                    A Painted House   \n",
              "401     0316666343                          The Lovely Bones: A Novel   \n",
              "734     0385504209                                  The Da Vinci Code   \n",
              "26      0971880107                                        Wild Animus   \n",
              "\n",
              "                      Book-Author  Year-Of-Publication  \\\n",
              "171529          Benjamin Franklin                 1806   \n",
              "211547                Ted Schredd                 1900   \n",
              "262204          Leonard Bernstein                 1901   \n",
              "102242          Linda O. Johnston                 1902   \n",
              "45599               JOSEPH HELLER                 1904   \n",
              "170683         Clement K. Shorter                 1906   \n",
              "159472            Three Initiates                 1908   \n",
              "191891              Kenneth Hagin                 1911   \n",
              "8369         F. Scott Fritzgerald                 1920   \n",
              "60245             THOMAS ROCKWELL                 1923   \n",
              "198308            Albert Einstein                 1924   \n",
              "120296        F. Scott Fitzgerald                 1925   \n",
              "34910            Ernest Hemingway                 1926   \n",
              "62792           Franklin W. Dixon                 1927   \n",
              "182072           Percival C. Wren                 1928   \n",
              "54024            Ernest Hemingway                 1929   \n",
              "11326               Carolyn Keene                 1930   \n",
              "167762            Kenneth McLeish                 1931   \n",
              "51668               Carolyn Keene                 1932   \n",
              "171066           Charlotte Bronte                 1933   \n",
              "80855           Elizabeth Reynard                 1934   \n",
              "186151              Myer Pearlman                 1935   \n",
              "11012           Margaret Mitchell                 1936   \n",
              "102614           Charles Williams                 1937   \n",
              "36471            J. R. R. Tolkien                 1938   \n",
              "42375            Leslie Charteris                 1939   \n",
              "5931            Franklin W. Dixon                 1940   \n",
              "92485           Franklin W. Dixon                 1941   \n",
              "2038                Aldous Huxley                 1942   \n",
              "81316    Antoine De Saint-Exupery                 1943   \n",
              "207770              WALTER FARLEY                 1944   \n",
              "61127                 E. B. White                 1945   \n",
              "10647    Charles Lutwidge Dodgson                 1946   \n",
              "20297               Carolyn Keene                 1947   \n",
              "104768                Max F. Long                 1948   \n",
              "79388               Carolyn Keene                 1949   \n",
              "2959               EDMOND ROSTAND                 1950   \n",
              "18916               Hermann Hesse                 1951   \n",
              "54034                 E. B. White                 1952   \n",
              "15503        Laura Ingalls Wilder                 1953   \n",
              "20725         Willa Sibert Cather                 1954   \n",
              "15808                Dudley Fitts                 1955   \n",
              "1685               Allen Ginsberg                 1956   \n",
              "198221                  Dr. Seuss                 1957   \n",
              "20061                   Dr. Seuss                 1958   \n",
              "1735       William Gerald Golding                 1959   \n",
              "21611                   Dr. Seuss                 1960   \n",
              "6394            Philip D. Eastman                 1961   \n",
              "99197                Juan Mascaro                 1962   \n",
              "26155                   Dr. Seuss                 1963   \n",
              "13198            Shel Silverstein                 1964   \n",
              "461           NATHANIEL HAWTHORNE                 1965   \n",
              "10390               Robert Ludlum                 1966   \n",
              "28552              Jonathan Swift                 1967   \n",
              "382     Antoine de Saint-ExupÃ©ry                 1968   \n",
              "22813             LLOYD ALEXANDER                 1969   \n",
              "9370                   C.S. Lewis                 1970   \n",
              "4157                 SCOTT O'DELL                 1971   \n",
              "8123                  FRANZ KAFKA                 1972   \n",
              "1373                Kahlil Gibran                 1973   \n",
              "3805                  E. B. White                 1974   \n",
              "36200             Piers Paul Read                 1975   \n",
              "3138                Richard Adams                 1976   \n",
              "462                Anne McCaffrey                 1977   \n",
              "1190           Colleen McCullough                 1978   \n",
              "8390            Madeleine L'Engle                 1979   \n",
              "3574                M. Scott Peck                 1980   \n",
              "3236                Hermann Hesse                 1981   \n",
              "3709                  Elie Wiesel                 1982   \n",
              "72                  Benjamin Hoff                 1983   \n",
              "14845                Jean M. Auel                 1984   \n",
              "2525                 Alice Walker                 1985   \n",
              "3320               J.R.R. TOLKIEN                 1986   \n",
              "2202                 RAY BRADBURY                 1987   \n",
              "37                     Harper Lee                 1988   \n",
              "507            Barbara Kingsolver                 1989   \n",
              "1366                  John Irving                 1990   \n",
              "89                  J.D. Salinger                 1991   \n",
              "119226               John Grisham                 1992   \n",
              "2497                    Anne Rice                 1993   \n",
              "66                        Amy Tan                 1994   \n",
              "113954             David Guterson                 1995   \n",
              "1087                   Wally Lamb                 1996   \n",
              "1086                Rebecca Wells                 1997   \n",
              "513                 Anita Diamant                 1998   \n",
              "77151               J. K. Rowling                 1999   \n",
              "4385              Andre Dubus III                 2000   \n",
              "188607               John Grisham                 2001   \n",
              "401                  Alice Sebold                 2002   \n",
              "734                     Dan Brown                 2003   \n",
              "26                   Rich Shapero                 2004   \n",
              "\n",
              "                                    Publisher  \n",
              "171529                  Reprint Services Corp  \n",
              "211547             Graphic Arts Center Pub Co  \n",
              "262204                               Fireside  \n",
              "102242                              Harlequin  \n",
              "45599                                   Delta  \n",
              "170683                                 Ams Pr  \n",
              "159472               Yoga Publication Society  \n",
              "191891             Faith Library Publications  \n",
              "8369                   Scribner Paper Fiction  \n",
              "60245                                Yearling  \n",
              "198308                     Dover Publications  \n",
              "120296                          Prentice Hall  \n",
              "34910                   Scribner Book Company  \n",
              "62792                    Grosset &amp; Dunlap  \n",
              "182072                          Stokes Pub Co  \n",
              "54024                 Charles Scribner's Sons  \n",
              "11326                    Grosset &amp; Dunlap  \n",
              "167762            Trafalgar Square Publishing  \n",
              "51668                      Imagination Studio  \n",
              "171066          Gateway/Associated Faculty Pr  \n",
              "80855                         Parnassus Press  \n",
              "186151                Gospel Publishing House  \n",
              "11012                                Scribner  \n",
              "102614     Wm. B. Eerdmans Publishing Company  \n",
              "36471                Houghton Mifflin Company  \n",
              "42375                               Doubleday  \n",
              "5931                     Grosset &amp; Dunlap  \n",
              "92485                    Grosset &amp; Dunlap  \n",
              "2038                                Perennial  \n",
              "81316                                Harcourt  \n",
              "207770   Random House Books for Young Readers  \n",
              "61127                           HarperCollins  \n",
              "10647                    Grosset &amp; Dunlap  \n",
              "20297                    Grosset &amp; Dunlap  \n",
              "104768                  DeVorss &amp; Company  \n",
              "79388                    Grosset &amp; Dunlap  \n",
              "2959                                   Bantam  \n",
              "18916   New Directions Publishing Corporation  \n",
              "54034            Harpercollins Juvenile Books  \n",
              "15503                            HarperTrophy  \n",
              "20725                        Houghton Mifflin  \n",
              "15808                           Harvest Books  \n",
              "1685                   City Lights Publishers  \n",
              "198221   Random House Books for Young Readers  \n",
              "20061    Random House Books for Young Readers  \n",
              "1735                            Perigee Trade  \n",
              "21611    Random House Books for Young Readers  \n",
              "6394            Random House Children's Books  \n",
              "99197                           Penguin Books  \n",
              "26155    Random House Books for Young Readers  \n",
              "13198                HarperCollins Publishers  \n",
              "461                                    Bantam  \n",
              "10390                   Bantam Doubleday Dell  \n",
              "28552                           Penguin Books  \n",
              "382                                  Harcourt  \n",
              "22813                                Yearling  \n",
              "9370            MacMillan Publishing Company.  \n",
              "4157            Random House Children's Books  \n",
              "8123                                   Bantam  \n",
              "1373                          Alfred A. Knopf  \n",
              "3805                             HarperTrophy  \n",
              "36200                                    Avon  \n",
              "3138                                     Avon  \n",
              "462                                    Bantam  \n",
              "1190                                     Avon  \n",
              "8390                               Laure Leaf  \n",
              "3574                               Touchstone  \n",
              "3236                          Bantam Classics  \n",
              "3709                             Bantam Books  \n",
              "72                              Penguin Books  \n",
              "14845                            Bantam Books  \n",
              "2525                             Pocket Books  \n",
              "3320                                  Del Rey  \n",
              "2202                                  Del Rey  \n",
              "37                 Little Brown &amp; Company  \n",
              "507                                 Perennial  \n",
              "1366                         Ballantine Books  \n",
              "89                              Little, Brown  \n",
              "119226           Bantam Dell Publishing Group  \n",
              "2497                         Ballantine Books  \n",
              "66                       Prentice Hall (K-12)  \n",
              "113954                      Vintage Books USA  \n",
              "1087                  Washington Square Press  \n",
              "1086                                Perennial  \n",
              "513                               Picador USA  \n",
              "77151                  Arthur A. Levine Books  \n",
              "4385                            Vintage Books  \n",
              "188607                Dell Publishing Company  \n",
              "401                             Little, Brown  \n",
              "734                                 Doubleday  \n",
              "26                                    Too Far  "
            ]
          },
          "metadata": {},
          "execution_count": 111
        }
      ]
    },
    {
      "cell_type": "markdown",
      "metadata": {
        "id": "L8LlqISgHkzR"
      },
      "source": [
        "The above dataframe consists of data of various books,authors,publishers who have recieved the highest ratings in the pirticular year thus this data can be usefull if there were to be a pattern set in the data, that could further increase the sales of a pirticular books"
      ]
    },
    {
      "cell_type": "markdown",
      "metadata": {
        "id": "oOYMsy7NHGN_"
      },
      "source": [
        "### 5. Books by Average Weighted Ratings"
      ]
    },
    {
      "cell_type": "markdown",
      "metadata": {
        "id": "AnmXe1E9ISIv"
      },
      "source": [
        "In the above cases we have seen models that rank books on either the number of readers or the most rated ones this model is an extension of that to ensure that instead of soley relying on one we can use the weighted average concept to make a better model"
      ]
    },
    {
      "cell_type": "code",
      "metadata": {
        "id": "Dkp6QJxNl2UR",
        "colab": {
          "base_uri": "https://localhost:8080/",
          "height": 293
        },
        "outputId": "6aba0533-3345-4dbd-df7b-aaebb25b800c"
      },
      "source": [
        "# create a copy of df(average rating df)\n",
        "avg_r_df = df.copy()\n",
        "# calculate the average ratings\n",
        "avg_r_df['Average Rating']=df.groupby('ISBN')['Book-Rating'].transform('mean')\n",
        "# calculate the total ratings given every book\n",
        "avg_r_df['Total-Ratings']=avg_r_df.groupby('ISBN')['Book-Rating'].transform('count')\n",
        "# show average-rating-dataframe\n",
        "avg_r_df.head()"
      ],
      "execution_count": null,
      "outputs": [
        {
          "output_type": "execute_result",
          "data": {
            "text/html": [
              "<div>\n",
              "<style scoped>\n",
              "    .dataframe tbody tr th:only-of-type {\n",
              "        vertical-align: middle;\n",
              "    }\n",
              "\n",
              "    .dataframe tbody tr th {\n",
              "        vertical-align: top;\n",
              "    }\n",
              "\n",
              "    .dataframe thead th {\n",
              "        text-align: right;\n",
              "    }\n",
              "</style>\n",
              "<table border=\"1\" class=\"dataframe\">\n",
              "  <thead>\n",
              "    <tr style=\"text-align: right;\">\n",
              "      <th></th>\n",
              "      <th>ISBN</th>\n",
              "      <th>Book-Title</th>\n",
              "      <th>Book-Author</th>\n",
              "      <th>Year-Of-Publication</th>\n",
              "      <th>Publisher</th>\n",
              "      <th>User-ID</th>\n",
              "      <th>Book-Rating</th>\n",
              "      <th>Age</th>\n",
              "      <th>City</th>\n",
              "      <th>State</th>\n",
              "      <th>Country</th>\n",
              "      <th>Average Rating</th>\n",
              "      <th>Total-Ratings</th>\n",
              "    </tr>\n",
              "  </thead>\n",
              "  <tbody>\n",
              "    <tr>\n",
              "      <th>0</th>\n",
              "      <td>0002005018</td>\n",
              "      <td>Clara Callan</td>\n",
              "      <td>Richard Bruce Wright</td>\n",
              "      <td>2001</td>\n",
              "      <td>HarperFlamingo Canada</td>\n",
              "      <td>8</td>\n",
              "      <td>5</td>\n",
              "      <td>35</td>\n",
              "      <td>timmins</td>\n",
              "      <td>ontario</td>\n",
              "      <td>canada</td>\n",
              "      <td>7.666667</td>\n",
              "      <td>9</td>\n",
              "    </tr>\n",
              "    <tr>\n",
              "      <th>1</th>\n",
              "      <td>074322678X</td>\n",
              "      <td>Where You'll Find Me: And Other Stories</td>\n",
              "      <td>Ann Beattie</td>\n",
              "      <td>2002</td>\n",
              "      <td>Scribner</td>\n",
              "      <td>8</td>\n",
              "      <td>5</td>\n",
              "      <td>35</td>\n",
              "      <td>timmins</td>\n",
              "      <td>ontario</td>\n",
              "      <td>canada</td>\n",
              "      <td>5.000000</td>\n",
              "      <td>1</td>\n",
              "    </tr>\n",
              "    <tr>\n",
              "      <th>2</th>\n",
              "      <td>0887841740</td>\n",
              "      <td>The Middle Stories</td>\n",
              "      <td>Sheila Heti</td>\n",
              "      <td>2004</td>\n",
              "      <td>House of Anansi Press</td>\n",
              "      <td>8</td>\n",
              "      <td>5</td>\n",
              "      <td>35</td>\n",
              "      <td>timmins</td>\n",
              "      <td>ontario</td>\n",
              "      <td>canada</td>\n",
              "      <td>5.000000</td>\n",
              "      <td>1</td>\n",
              "    </tr>\n",
              "    <tr>\n",
              "      <th>3</th>\n",
              "      <td>1552041778</td>\n",
              "      <td>Jane Doe</td>\n",
              "      <td>R. J. Kaiser</td>\n",
              "      <td>1999</td>\n",
              "      <td>Mira Books</td>\n",
              "      <td>8</td>\n",
              "      <td>5</td>\n",
              "      <td>35</td>\n",
              "      <td>timmins</td>\n",
              "      <td>ontario</td>\n",
              "      <td>canada</td>\n",
              "      <td>5.000000</td>\n",
              "      <td>1</td>\n",
              "    </tr>\n",
              "    <tr>\n",
              "      <th>4</th>\n",
              "      <td>1567407781</td>\n",
              "      <td>The Witchfinder (Amos Walker Mystery Series)</td>\n",
              "      <td>Loren D. Estleman</td>\n",
              "      <td>1998</td>\n",
              "      <td>Brilliance Audio - Trade</td>\n",
              "      <td>8</td>\n",
              "      <td>6</td>\n",
              "      <td>35</td>\n",
              "      <td>timmins</td>\n",
              "      <td>ontario</td>\n",
              "      <td>canada</td>\n",
              "      <td>6.000000</td>\n",
              "      <td>1</td>\n",
              "    </tr>\n",
              "  </tbody>\n",
              "</table>\n",
              "</div>"
            ],
            "text/plain": [
              "         ISBN  ... Total-Ratings\n",
              "0  0002005018  ...             9\n",
              "1  074322678X  ...             1\n",
              "2  0887841740  ...             1\n",
              "3  1552041778  ...             1\n",
              "4  1567407781  ...             1\n",
              "\n",
              "[5 rows x 13 columns]"
            ]
          },
          "metadata": {},
          "execution_count": 74
        }
      ]
    },
    {
      "cell_type": "code",
      "metadata": {
        "id": "sIuS3EkeqEkC",
        "colab": {
          "base_uri": "https://localhost:8080/"
        },
        "outputId": "3e7e66ee-37b8-4c47-bfb3-3ab14b667274"
      },
      "source": [
        "# mean_ratin - Mean vote across the whole\n",
        "mean_ratin = avg_r_df['Average Rating'].mean()\n",
        "\n",
        "# Minimum number of votes required to be in the chart\n",
        "# choose the top 90 percentile of the data\n",
        "m = avg_r_df['Total-Ratings'].quantile(0.90)\n",
        "print(f'C={mean_ratin} , m={m}')\n",
        "\n",
        "# choosing total ratings in dataset greater than the 90th percentile\n",
        "avg_r_90_percent = avg_r_df.loc[avg_r_df['Total-Ratings'] >= m]\n",
        "# print the average-rating-dataframe 90th percentile\n",
        "print(f'The data shape of average ratings df before slicinng based on 90 percentile {avg_r_df.shape} after slicing {avg_r_90_percent.shape}')"
      ],
      "execution_count": null,
      "outputs": [
        {
          "output_type": "stream",
          "name": "stdout",
          "text": [
            "C=7.626797722667526 , m=65.0\n",
            " the data shape of average ratings df before slicinng based on 90 percentile (383958, 13) after slicing (38515, 13)\n"
          ]
        }
      ]
    },
    {
      "cell_type": "code",
      "metadata": {
        "id": "fybdNWJCqRdv"
      },
      "source": [
        "# calc the weighted average of books \n",
        "def weightedRating(x, m=m, C=mean_ratin): \n",
        "    ''' returns weighted avarage of items, taken is x = dataframe,\n",
        "        m = top 90 percentile data, c = mean-rating of the dataset'''\n",
        "    #  v - number of votes\n",
        "    v = x['Total-Ratings'] \n",
        "    # R - Average Rating     \n",
        "    R = x['Average Rating']   \n",
        "    return (v/(v+m) * R) + (m/(m+v) * C)"
      ],
      "execution_count": null,
      "outputs": []
    },
    {
      "cell_type": "code",
      "metadata": {
        "id": "HjWQv2h_quof",
        "colab": {
          "base_uri": "https://localhost:8080/",
          "height": 243
        },
        "outputId": "1c2438ad-6ec5-499d-a265-8dc65ff6fd9d"
      },
      "source": [
        "# calc score(weighted_average)\n",
        "avg_r_90_percent['Score'] = avg_r_90_percent.apply(weightedRating, axis=1)\n",
        "# sort based on the best ones(highest-weighted-avg)\n",
        "avgwr_df = avg_r_90_percent.drop_duplicates('ISBN').sort_index()\n",
        "#Sorting books based on score calculated above\n",
        "avgwr_df = avgwr_df.sort_values('Score', ascending=False)\n",
        "recomm_number =5\n",
        "print(\"Book recommendation based of on Weighted Average ratings :-\\n\")\n",
        "# choose the required nummber of books\n",
        "avgwr_df[['Book-Title', 'Total-Ratings', 'Average Rating', 'Score']].reset_index(drop=True).head(recomm_number)\n",
        "\n",
        "# avgwr_df.shape"
      ],
      "execution_count": null,
      "outputs": [
        {
          "output_type": "stream",
          "name": "stdout",
          "text": [
            "Book recommendation based of on Weighted Average ratings :-\n",
            "\n"
          ]
        },
        {
          "output_type": "execute_result",
          "data": {
            "text/html": [
              "<div>\n",
              "<style scoped>\n",
              "    .dataframe tbody tr th:only-of-type {\n",
              "        vertical-align: middle;\n",
              "    }\n",
              "\n",
              "    .dataframe tbody tr th {\n",
              "        vertical-align: top;\n",
              "    }\n",
              "\n",
              "    .dataframe thead th {\n",
              "        text-align: right;\n",
              "    }\n",
              "</style>\n",
              "<table border=\"1\" class=\"dataframe\">\n",
              "  <thead>\n",
              "    <tr style=\"text-align: right;\">\n",
              "      <th></th>\n",
              "      <th>Book-Title</th>\n",
              "      <th>Total-Ratings</th>\n",
              "      <th>Average Rating</th>\n",
              "      <th>Score</th>\n",
              "    </tr>\n",
              "  </thead>\n",
              "  <tbody>\n",
              "    <tr>\n",
              "      <th>0</th>\n",
              "      <td>Harry Potter and the Goblet of Fire (Book 4)</td>\n",
              "      <td>137</td>\n",
              "      <td>9.262774</td>\n",
              "      <td>8.736346</td>\n",
              "    </tr>\n",
              "    <tr>\n",
              "      <th>1</th>\n",
              "      <td>Harry Potter and the Sorcerer's Stone (Harry P...</td>\n",
              "      <td>315</td>\n",
              "      <td>8.936508</td>\n",
              "      <td>8.712479</td>\n",
              "    </tr>\n",
              "    <tr>\n",
              "      <th>2</th>\n",
              "      <td>Harry Potter and the Order of the Phoenix (Boo...</td>\n",
              "      <td>207</td>\n",
              "      <td>9.038647</td>\n",
              "      <td>8.701257</td>\n",
              "    </tr>\n",
              "    <tr>\n",
              "      <th>3</th>\n",
              "      <td>To Kill a Mockingbird</td>\n",
              "      <td>214</td>\n",
              "      <td>8.943925</td>\n",
              "      <td>8.637068</td>\n",
              "    </tr>\n",
              "    <tr>\n",
              "      <th>4</th>\n",
              "      <td>Harry Potter and the Prisoner of Azkaban (Book 3)</td>\n",
              "      <td>133</td>\n",
              "      <td>9.082707</td>\n",
              "      <td>8.604757</td>\n",
              "    </tr>\n",
              "  </tbody>\n",
              "</table>\n",
              "</div>"
            ],
            "text/plain": [
              "                                          Book-Title  ...     Score\n",
              "0       Harry Potter and the Goblet of Fire (Book 4)  ...  8.736346\n",
              "1  Harry Potter and the Sorcerer's Stone (Harry P...  ...  8.712479\n",
              "2  Harry Potter and the Order of the Phoenix (Boo...  ...  8.701257\n",
              "3                              To Kill a Mockingbird  ...  8.637068\n",
              "4  Harry Potter and the Prisoner of Azkaban (Book 3)  ...  8.604757\n",
              "\n",
              "[5 rows x 4 columns]"
            ]
          },
          "metadata": {},
          "execution_count": 87
        }
      ]
    },
    {
      "cell_type": "markdown",
      "metadata": {
        "id": "-WyjvxyCM-qh"
      },
      "source": [
        "### 6. Collaborative Filtering "
      ]
    },
    {
      "cell_type": "markdown",
      "metadata": {
        "id": "kuWmFl88NnkA"
      },
      "source": [
        "User-Item based filtering"
      ]
    },
    {
      "cell_type": "markdown",
      "metadata": {
        "id": "HsvPziCoYbon"
      },
      "source": [
        "Upto this point we have used models that only consider wither ratings or users as its sole recommending criteria now lets branch out to an even more sophisticated model that compares users-items and then provides suggestions"
      ]
    },
    {
      "cell_type": "code",
      "metadata": {
        "id": "fRa1amkYM_T5"
      },
      "source": [
        "# drop unwanted cols \n",
        "required_df = avg_r_df.drop(['Year-Of-Publication','Publisher','Age','City','State','Country'], axis=1)\n",
        "\n",
        "# set a threshold \n",
        "popularity_threshold = 50\n",
        "# choose only books those have their total-rating above 50\n",
        "popular_book = required_df[required_df['Total-Ratings'] >= popularity_threshold]\n",
        "# reset the indedices as books below threshold were dropped\n",
        "popular_book = popular_book.reset_index(drop = True)"
      ],
      "execution_count": null,
      "outputs": []
    },
    {
      "cell_type": "code",
      "metadata": {
        "id": "jfTvRIvANBnq"
      },
      "source": [
        "# create a test df\n",
        "testdf = pd.DataFrame()\n",
        "\n",
        "# based on respective book group all the users and ratings given to it\n",
        "testdf = popular_book[['User-ID','Book-Rating']].groupby(popular_book['ISBN'])\n",
        "# testdf.head()\n",
        "\n",
        "# list that contain dicts(Users & Ratings)\n",
        "listOfDictonaries=[]\n",
        "# pointers and their mapping to ISBN's\n",
        "indexMap = {}\n",
        "# the reverse mapping of indexMap\n",
        "reverseIndexMap = {}\n",
        "# counter/pointer\n",
        "ptr=0\n",
        "\n",
        "# loop each isbn(gropkey) in the testdf\n",
        "for groupKey in testdf.groups.keys():\n",
        "    # temporary storing of each book's users and ratingvalue\n",
        "    tempDict={}\n",
        "    # assign all common users and ratings for an ISBN\n",
        "    groupDF = testdf.get_group(groupKey)\n",
        "\n",
        "    for i in range(0,len(groupDF)):\n",
        "        # in temp dict for a pirticular book make the user as key and rating as value\n",
        "        tempDict[groupDF.iloc[i,0]] = groupDF.iloc[i,1]\n",
        "    # map pointer as key and ISBN as value\n",
        "    indexMap[ptr]=groupKey\n",
        "    reverseIndexMap[groupKey] = ptr\n",
        "    # increment pointer after each ISBN\n",
        "    ptr=ptr+1\n",
        "    # append users and rating for each isbn\n",
        "    listOfDictonaries.append(tempDict)\n",
        "\n",
        "# instance of DictVectorizer\n",
        "dictVectorizer = DictVectorizer(sparse=True)\n",
        "# Transforms lists of feature-value mappings to vectors\n",
        "vector = dictVectorizer.fit_transform(listOfDictonaries)\n",
        "# calcluate cosie similarity of vector # dot prod\n",
        "pairwiseSimilarity = cosine_similarity(vector)"
      ],
      "execution_count": null,
      "outputs": []
    },
    {
      "cell_type": "code",
      "metadata": {
        "id": "z1UMPUT7NBea"
      },
      "source": [
        "# print book names\n",
        "def printBookDetails(bookID):\n",
        "    # match isbn and print the repective name\n",
        "    print(df[df['ISBN']==bookID]['Book-Title'].values[0])\n",
        "\n",
        "\n",
        "#  get top recommendations\n",
        "def getTopRecommandations(bookID):\n",
        "    # a list of movie names\n",
        "    collaborative = []\n",
        "    # get the index of given book ISBN\n",
        "    row = reverseIndexMap[bookID]\n",
        "    # print the given book detail\n",
        "    print(\"Input Book:\")\n",
        "    printBookDetails(bookID)\n",
        "    \n",
        "    print(\"\\nRECOMMENDATIONS:\\n\")\n",
        "    \n",
        "    count = 0\n",
        "    # a list of similar books\n",
        "    similar = []\n",
        "    # for the given index(row) in array(pairwise similarites) return similar indices\n",
        "    for i in np.argsort(pairwiseSimilarity[row])[:-2][::-1]:\n",
        "          # proceed if the index(i) isnt in similar\n",
        "          if df[df['ISBN']==indexMap[i]]['Book-Title'].values[0] not in similar:\n",
        "                # break if the count exceeds the required number of books\n",
        "                if count>=recomm_number:\n",
        "                      break\n",
        "                count+=1\n",
        "                # else append title into similar and colabrative lists\n",
        "                book_title = df[df['ISBN']==indexMap[i]]['Book-Title'].values[0]\n",
        "                similar.append(book_title)\n",
        "                collaborative.append(book_title)\n",
        "                printBookDetails(indexMap[i])\n",
        "\n",
        "    # return list of books\n",
        "    return collaborative"
      ],
      "execution_count": null,
      "outputs": []
    },
    {
      "cell_type": "code",
      "metadata": {
        "id": "NLZqZpnmNTmj",
        "colab": {
          "base_uri": "https://localhost:8080/"
        },
        "outputId": "c90a8655-37e0-48a3-c8ec-543ab75595e0"
      },
      "source": [
        "# list of titles\n",
        "k = list(df['Book-Title'])\n",
        "# list of book ids\n",
        "m = list(df['ISBN'])\n",
        "\n",
        "bookName = \"Harry Potter and the Sorcerer's Stone (Harry Potter (Paperback))\"#input(\"Enter a book name: \")\n",
        "# ex - Harry Potter and the Sorcerer's Stone (Harry Potter (Paperback))\n",
        "\n",
        "# check if book exists in the set of book-titles\n",
        "if bookName in k:\n",
        "  print(f'The top {recomm_number} recomendations based on input using Colabrative Filtering \\n')\n",
        "  collaborative = getTopRecommandations(m[k.index(bookName)])\n",
        "else:\n",
        "  # in case the requested book does not exist in the dataset\n",
        "  print(\"Oops!! the requested book does not seem to be present \")"
      ],
      "execution_count": null,
      "outputs": [
        {
          "output_type": "stream",
          "name": "stdout",
          "text": [
            "The top 5 recomendations based on input using Colabrative Filtering\n",
            "Input Book:\n",
            "Harry Potter and the Sorcerer's Stone (Harry Potter (Paperback))\n",
            "\n",
            "RECOMMENDATIONS:\n",
            "\n",
            "Harry Potter and the Prisoner of Azkaban (Book 3)\n",
            "Harry Potter and the Goblet of Fire (Book 4)\n",
            "Harry Potter and the Order of the Phoenix (Book 5)\n",
            "Harry Potter and the Chamber of Secrets (Book 2)\n",
            "Anne of Green Gables (Anne of Green Gables Novels (Paperback))\n"
          ]
        }
      ]
    },
    {
      "cell_type": "markdown",
      "metadata": {
        "id": "b60T6vcqM-Y3"
      },
      "source": [
        "### 7. Correlation Based Filtering"
      ]
    },
    {
      "cell_type": "code",
      "metadata": {
        "id": "5HgVdnkwN9re"
      },
      "source": [
        "# set threshold\n",
        "minimum_threshold = 50\n",
        "# how many books a pirticular user has read\n",
        "user_count = df['User-ID'].value_counts()\n",
        "# choose users who have read more than 50 books\n",
        "data = df[df['User-ID'].isin(user_count[user_count >= minimum_threshold].index)]\n",
        "# number of times a book was rated\n",
        "rat_count = data['Book-Rating'].value_counts()\n",
        "# choose books that have read more than 50 ratings\n",
        "data = data[data['Book-Rating'].isin(rat_count[rat_count >= minimum_threshold].index)]\n",
        "\n",
        "# create a pivot table using bookratings\n",
        "matrix = data.pivot_table(index='User-ID', columns='ISBN', values = 'Book-Rating').fillna(0)\n",
        "# print('the created Pivot Table of users vs boooks(isbn) using book-ratings')\n",
        "# matrix"
      ],
      "execution_count": null,
      "outputs": []
    },
    {
      "cell_type": "code",
      "metadata": {
        "id": "IduBu-F0ODMu",
        "colab": {
          "base_uri": "https://localhost:8080/",
          "height": 237
        },
        "outputId": "501d282e-e759-4e76-e70a-14b7ce10b46d"
      },
      "source": [
        "# calculate average rating\n",
        "average_rating = pd.DataFrame(df.groupby('ISBN')['Book-Rating'].mean())\n",
        "average_rating['ratingCount'] = pd.DataFrame(ratings.groupby('ISBN')['Book-Rating'].count())\n",
        "average_rating.sort_values('ratingCount', ascending=False).head()"
      ],
      "execution_count": null,
      "outputs": [
        {
          "output_type": "execute_result",
          "data": {
            "text/html": [
              "<div>\n",
              "<style scoped>\n",
              "    .dataframe tbody tr th:only-of-type {\n",
              "        vertical-align: middle;\n",
              "    }\n",
              "\n",
              "    .dataframe tbody tr th {\n",
              "        vertical-align: top;\n",
              "    }\n",
              "\n",
              "    .dataframe thead th {\n",
              "        text-align: right;\n",
              "    }\n",
              "</style>\n",
              "<table border=\"1\" class=\"dataframe\">\n",
              "  <thead>\n",
              "    <tr style=\"text-align: right;\">\n",
              "      <th></th>\n",
              "      <th>Book-Rating</th>\n",
              "      <th>ratingCount</th>\n",
              "    </tr>\n",
              "    <tr>\n",
              "      <th>ISBN</th>\n",
              "      <th></th>\n",
              "      <th></th>\n",
              "    </tr>\n",
              "  </thead>\n",
              "  <tbody>\n",
              "    <tr>\n",
              "      <th>0971880107</th>\n",
              "      <td>4.390706</td>\n",
              "      <td>2502</td>\n",
              "    </tr>\n",
              "    <tr>\n",
              "      <th>0316666343</th>\n",
              "      <td>8.185290</td>\n",
              "      <td>1295</td>\n",
              "    </tr>\n",
              "    <tr>\n",
              "      <th>0385504209</th>\n",
              "      <td>8.426230</td>\n",
              "      <td>884</td>\n",
              "    </tr>\n",
              "    <tr>\n",
              "      <th>0060928336</th>\n",
              "      <td>7.887500</td>\n",
              "      <td>732</td>\n",
              "    </tr>\n",
              "    <tr>\n",
              "      <th>0312195516</th>\n",
              "      <td>8.182768</td>\n",
              "      <td>723</td>\n",
              "    </tr>\n",
              "  </tbody>\n",
              "</table>\n",
              "</div>"
            ],
            "text/plain": [
              "            Book-Rating  ratingCount\n",
              "ISBN                                \n",
              "0971880107     4.390706         2502\n",
              "0316666343     8.185290         1295\n",
              "0385504209     8.426230          884\n",
              "0060928336     7.887500          732\n",
              "0312195516     8.182768          723"
            ]
          },
          "metadata": {},
          "execution_count": 120
        }
      ]
    },
    {
      "cell_type": "code",
      "metadata": {
        "id": "nHRP6eIyOee6",
        "colab": {
          "base_uri": "https://localhost:8080/",
          "height": 261
        },
        "outputId": "8519ccc3-8762-42ab-bec2-ab01fb1e974e"
      },
      "source": [
        "# for given book name find isbn\n",
        "isbn = books.loc[books['Book-Title'] == bookName].reset_index(drop = True).iloc[0]['ISBN']\n",
        "# find the isbn in the pivot-table(matrix)\n",
        "row = matrix[isbn]\n",
        "# find correlation(pearson's) with others in the matrix \n",
        "correlation = pd.DataFrame(matrix.corrwith(row), columns = ['Pearson Corr'])\n",
        "# join the correlation df with average df\n",
        "corr = correlation.join(average_rating['ratingCount'])\n",
        "\n",
        "# sort values based on pearson correlation val - choose top 5\n",
        "res = corr.sort_values('Pearson Corr', ascending=False).head(recomm_number+1)[1:].index\n",
        "# merge this resilt with books df \n",
        "corr_books = pd.merge(pd.DataFrame(res, columns = ['ISBN']), books, on='ISBN')\n",
        "print(\"\\n Recommended Books using Correlation based filtering: \\n\")\n",
        "corr_books"
      ],
      "execution_count": null,
      "outputs": [
        {
          "output_type": "stream",
          "name": "stdout",
          "text": [
            "\n",
            " Recommended Books using Correlation based filtering: \n",
            "\n"
          ]
        },
        {
          "output_type": "execute_result",
          "data": {
            "text/html": [
              "<div>\n",
              "<style scoped>\n",
              "    .dataframe tbody tr th:only-of-type {\n",
              "        vertical-align: middle;\n",
              "    }\n",
              "\n",
              "    .dataframe tbody tr th {\n",
              "        vertical-align: top;\n",
              "    }\n",
              "\n",
              "    .dataframe thead th {\n",
              "        text-align: right;\n",
              "    }\n",
              "</style>\n",
              "<table border=\"1\" class=\"dataframe\">\n",
              "  <thead>\n",
              "    <tr style=\"text-align: right;\">\n",
              "      <th></th>\n",
              "      <th>ISBN</th>\n",
              "      <th>Book-Title</th>\n",
              "      <th>Book-Author</th>\n",
              "      <th>Year-Of-Publication</th>\n",
              "      <th>Publisher</th>\n",
              "    </tr>\n",
              "  </thead>\n",
              "  <tbody>\n",
              "    <tr>\n",
              "      <th>0</th>\n",
              "      <td>0439064872</td>\n",
              "      <td>Harry Potter and the Chamber of Secrets (Book 2)</td>\n",
              "      <td>J. K. Rowling</td>\n",
              "      <td>2000</td>\n",
              "      <td>Scholastic</td>\n",
              "    </tr>\n",
              "    <tr>\n",
              "      <th>1</th>\n",
              "      <td>0439136369</td>\n",
              "      <td>Harry Potter and the Prisoner of Azkaban (Book 3)</td>\n",
              "      <td>J. K. Rowling</td>\n",
              "      <td>2001</td>\n",
              "      <td>Scholastic</td>\n",
              "    </tr>\n",
              "    <tr>\n",
              "      <th>2</th>\n",
              "      <td>0439139597</td>\n",
              "      <td>Harry Potter and the Goblet of Fire (Book 4)</td>\n",
              "      <td>J. K. Rowling</td>\n",
              "      <td>2000</td>\n",
              "      <td>Scholastic</td>\n",
              "    </tr>\n",
              "    <tr>\n",
              "      <th>3</th>\n",
              "      <td>0804115613</td>\n",
              "      <td>Fried Green Tomatoes at the Whistle Stop Cafe</td>\n",
              "      <td>Fannie Flagg</td>\n",
              "      <td>2000</td>\n",
              "      <td>Ballantine Books</td>\n",
              "    </tr>\n",
              "    <tr>\n",
              "      <th>4</th>\n",
              "      <td>0439139600</td>\n",
              "      <td>Harry Potter and the Goblet of Fire (Book 4)</td>\n",
              "      <td>J. K. Rowling</td>\n",
              "      <td>2002</td>\n",
              "      <td>Scholastic Paperbacks</td>\n",
              "    </tr>\n",
              "  </tbody>\n",
              "</table>\n",
              "</div>"
            ],
            "text/plain": [
              "         ISBN  ...              Publisher\n",
              "0  0439064872  ...             Scholastic\n",
              "1  0439136369  ...             Scholastic\n",
              "2  0439139597  ...             Scholastic\n",
              "3  0804115613  ...       Ballantine Books\n",
              "4  0439139600  ...  Scholastic Paperbacks\n",
              "\n",
              "[5 rows x 5 columns]"
            ]
          },
          "metadata": {},
          "execution_count": 121
        }
      ]
    },
    {
      "cell_type": "markdown",
      "metadata": {
        "id": "iVxR9xqaOib5"
      },
      "source": [
        "### 8. Nearest Neighbours Based Filtering"
      ]
    },
    {
      "cell_type": "markdown",
      "metadata": {
        "id": "UopAEsDD8rb7"
      },
      "source": [
        "### can reduce lines from 3 onwards"
      ]
    },
    {
      "cell_type": "code",
      "metadata": {
        "id": "i7aPJoEqOuhE",
        "colab": {
          "base_uri": "https://localhost:8080/"
        },
        "outputId": "95644096-d940-435e-e8f3-4b50bec36bd2"
      },
      "source": [
        "# group data on title with the no of times rated\n",
        "data = (df.groupby(by = ['Book-Title'])['Book-Rating'].count().reset_index().\n",
        "        rename(columns = {'Book-Rating': 'Total-Rating'})[['Book-Title', 'Total-Rating']])\n",
        "\n",
        "# merge this on df\n",
        "result = pd.merge(data, df, on='Book-Title', left_index = True)\n",
        "# select items above the threshold (50)\n",
        "result = result[result['Total-Rating'] >= popularity_threshold]\n",
        "result = result.reset_index(drop = True)\n",
        "# create a pivot table using bookratings\n",
        "matrix = result.pivot_table(index = 'Book-Title', columns = 'User-ID', values = 'Book-Rating').fillna(0)\n",
        "# create a sparse row matrix\n",
        "up_matrix = csr_matrix(matrix)\n",
        "up_matrix"
      ],
      "execution_count": null,
      "outputs": [
        {
          "output_type": "execute_result",
          "data": {
            "text/plain": [
              "<653x24894 sparse matrix of type '<class 'numpy.float64'>'\n",
              "\twith 65194 stored elements in Compressed Sparse Row format>"
            ]
          },
          "metadata": {},
          "execution_count": 125
        }
      ]
    },
    {
      "cell_type": "code",
      "metadata": {
        "id": "5Bx0m6Z_O1bt",
        "colab": {
          "base_uri": "https://localhost:8080/"
        },
        "outputId": "d0605821-79fd-47af-82d7-a85427e58113"
      },
      "source": [
        "# nearest neighbours model \n",
        "model = NearestNeighbors(metric = 'cosine', algorithm = 'brute')\n",
        "model.fit(up_matrix)\n",
        "\n",
        "# for the given book name find nearest-neighbours\n",
        "distances, indices = model.kneighbors(matrix.loc[bookName].values.reshape(1, -1), n_neighbors = recomm_number+1)\n",
        "print(\"\\nRecommended books using Nearest Neighbours:\\n\")\n",
        "# based off on distance print the book names\n",
        "for i in range(0, len(distances.flatten())):\n",
        "    # skip for value 0 as it's the same book\n",
        "    if i > 0:\n",
        "        print(matrix.index[indices.flatten()[i]]) "
      ],
      "execution_count": null,
      "outputs": [
        {
          "output_type": "stream",
          "name": "stdout",
          "text": [
            "\n",
            "Recommended books using Nearest Neighbours:\n",
            "\n",
            "Harry Potter and the Chamber of Secrets (Book 2)\n",
            "Harry Potter and the Prisoner of Azkaban (Book 3)\n",
            "Harry Potter and the Goblet of Fire (Book 4)\n",
            "Harry Potter and the Order of the Phoenix (Book 5)\n",
            "The Fellowship of the Ring (The Lord of the Rings, Part 1)\n"
          ]
        }
      ]
    },
    {
      "cell_type": "markdown",
      "metadata": {
        "id": "EECoiwgKO8Wb"
      },
      "source": [
        "### 9. Content Based Filtering\n"
      ]
    },
    {
      "cell_type": "code",
      "metadata": {
        "id": "g3MZgV-iO3aC",
        "colab": {
          "base_uri": "https://localhost:8080/"
        },
        "outputId": "b43f0251-234b-4c6b-bde7-e96703e2eef1"
      },
      "source": [
        "popularity_threshold = 80\n",
        "# choose books with total ratings above 80 and reset indicies\n",
        "popular_book = required_df[required_df['Total-Ratings'] >= popularity_threshold]\n",
        "popular_book = popular_book.reset_index(drop = True)\n",
        "popular_book.shape"
      ],
      "execution_count": null,
      "outputs": [
        {
          "output_type": "execute_result",
          "data": {
            "text/plain": [
              "(31176, 7)"
            ]
          },
          "metadata": {},
          "execution_count": 127
        }
      ]
    },
    {
      "cell_type": "code",
      "metadata": {
        "id": "b1xrGM1EPEAZ",
        "colab": {
          "base_uri": "https://localhost:8080/"
        },
        "outputId": "3659896e-01de-4098-dcc1-1cd2896f89a6"
      },
      "source": [
        "# extract unigrams and bigrams and cutoff document below threshold finally remove stopwords\n",
        "tf = TfidfVectorizer(ngram_range=(1, 2), min_df = 1, stop_words='english')\n",
        "# fit on title\n",
        "tfidf_matrix = tf.fit_transform(popular_book['Book-Title'])\n",
        "tfidf_matrix.shape"
      ],
      "execution_count": null,
      "outputs": [
        {
          "output_type": "execute_result",
          "data": {
            "text/plain": [
              "(31176, 911)"
            ]
          },
          "metadata": {},
          "execution_count": 128
        }
      ]
    },
    {
      "cell_type": "code",
      "metadata": {
        "id": "S3SH3rP7PGgS",
        "colab": {
          "base_uri": "https://localhost:8080/"
        },
        "outputId": "bcc5b2ec-f99c-4465-fbe4-b9c2f436b2ac"
      },
      "source": [
        "# typecast to float 32\n",
        "normalized_df = tfidf_matrix.astype(np.float32)\n",
        "# find cosine similarity between values\n",
        "cosine_similarities = cosine_similarity(normalized_df, normalized_df)\n",
        "cosine_similarities.shape"
      ],
      "execution_count": null,
      "outputs": [
        {
          "output_type": "execute_result",
          "data": {
            "text/plain": [
              "(31176, 31176)"
            ]
          },
          "metadata": {},
          "execution_count": 131
        }
      ]
    },
    {
      "cell_type": "code",
      "metadata": {
        "id": "HP584MawPKZz",
        "colab": {
          "base_uri": "https://localhost:8080/"
        },
        "outputId": "aaf65f8c-96c1-4871-8c3a-db98900533cb"
      },
      "source": [
        "print(\"Recommended Books using Content:\\n\")\n",
        "# get isbn from bookname\n",
        "isbn = books.loc[books['Book-Title'] == bookName].reset_index(drop = True).iloc[0]['ISBN']\n",
        "# list of content based recommended books  \n",
        "content = []\n",
        "# find index of book\n",
        "idx = popular_book.index[popular_book['ISBN'] == isbn].tolist()[0]\n",
        "# find similar indicies\n",
        "similar_indices = cosine_similarities[idx].argsort()[::-1]\n",
        "similar_items = []\n",
        "# loop theough indices\n",
        "for i in similar_indices:\n",
        "    # enter if block only if the found book's names isn't the original name and isnt present in similar items and  len of similar_items is less than the requies number of books\n",
        "    if popular_book['Book-Title'][i] != bookName and popular_book['Book-Title'][i] not in similar_items and len(similar_items) < recomm_number:\n",
        "        # append the bookname to 2 lists\n",
        "        similar_items.append(popular_book['Book-Title'][i])\n",
        "        content.append(popular_book['Book-Title'][i])\n",
        "\n",
        "# print similar books\n",
        "for book in similar_items:\n",
        "    print(book)"
      ],
      "execution_count": null,
      "outputs": [
        {
          "output_type": "stream",
          "name": "stdout",
          "text": [
            "Recommended Books using Content:\n",
            "\n",
            "Harry Potter and the Sorcerer's Stone (Book 1)\n",
            "Harry Potter and the Goblet of Fire (Book 4)\n",
            "Harry Potter and the Chamber of Secrets (Book 2)\n",
            "Harry Potter and the Prisoner of Azkaban (Book 3)\n",
            "Harry Potter and the Order of the Phoenix (Book 5)\n"
          ]
        }
      ]
    },
    {
      "cell_type": "markdown",
      "metadata": {
        "id": "MMQBWhKRPXBr"
      },
      "source": [
        "### 10. Hybrid Approach (Content and Collaborative)"
      ]
    },
    {
      "cell_type": "code",
      "metadata": {
        "id": "gY4Vu25uPVNK",
        "colab": {
          "base_uri": "https://localhost:8080/"
        },
        "outputId": "a5658d61-5222-4cac-ca00-d83ca77aaefc"
      },
      "source": [
        "z = list()\n",
        "k = float(1/recomm_number)\n",
        "for x in range(recomm_number):\n",
        "      z.append(1-k*x)\n",
        "\n",
        "dictISBN = {}\n",
        "for x in collaborative:\n",
        "      dictISBN[x] = z[collaborative.index(x)]\n",
        "\n",
        "for x in content:\n",
        "    if x not in dictISBN:\n",
        "        dictISBN[x] = z[content.index(x)]\n",
        "    else:\n",
        "        dictISBN[x] += z[content.index(x)]\n",
        "\n",
        "ISBN = dict(sorted(dictISBN.items(),key=operator.itemgetter(1),reverse=True))\n",
        "w=0\n",
        "print(\"Input Book:\\n\")\n",
        "print(bookName)\n",
        "print(\"\\nRecommended Books:\\n\")\n",
        "for x in ISBN.keys():\n",
        "    if w>=recomm_number:\n",
        "        break\n",
        "    w+=1\n",
        "    print(x)"
      ],
      "execution_count": null,
      "outputs": [
        {
          "output_type": "stream",
          "name": "stdout",
          "text": [
            "Input Book:\n",
            "\n",
            "Harry Potter and the Sorcerer's Stone (Harry Potter (Paperback))\n",
            "\n",
            "Recommended Books:\n",
            "\n",
            "Harry Potter and the Goblet of Fire (Book 4)\n",
            "Harry Potter and the Prisoner of Azkaban (Book 3)\n",
            "Harry Potter and the Sorcerer's Stone (Book 1)\n",
            "Harry Potter and the Chamber of Secrets (Book 2)\n",
            "Harry Potter and the Order of the Phoenix (Book 5)\n"
          ]
        }
      ]
    },
    {
      "cell_type": "code",
      "metadata": {
        "id": "HTkTP3SkqL_9"
      },
      "source": [
        ""
      ],
      "execution_count": null,
      "outputs": []
    }
  ]
}